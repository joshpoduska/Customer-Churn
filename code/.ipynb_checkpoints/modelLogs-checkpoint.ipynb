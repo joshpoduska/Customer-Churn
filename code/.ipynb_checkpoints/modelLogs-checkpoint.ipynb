{
 "cells": [
  {
   "cell_type": "code",
   "execution_count": 34,
   "metadata": {},
   "outputs": [],
   "source": [
    "from datetime import datetime, timedelta\n",
    "from pytz import timezone\n",
    "import math\n",
    "import sys\n",
    "import os"
   ]
  },
  {
   "cell_type": "code",
   "execution_count": 35,
   "metadata": {},
   "outputs": [],
   "source": [
    "# check mannually\n",
    "check_days_back = 7"
   ]
  },
  {
   "cell_type": "markdown",
   "metadata": {},
   "source": [
    "# Define Variables and Functions"
   ]
  },
  {
   "cell_type": "code",
   "execution_count": 36,
   "metadata": {},
   "outputs": [],
   "source": [
    "deployment = \"https://vip.domino.tech\"\n",
    "model_version_id = \"5bb6a0d3c9e77c0007cdd20a\"\n",
    "log_file = \"churn-model-api-logs.txt\"\n",
    "output_file = log_file + \".gz\""
   ]
  },
  {
   "cell_type": "code",
   "execution_count": 37,
   "metadata": {},
   "outputs": [],
   "source": [
    "def get_timestamp_ms(year, month, day, hour, minute):\n",
    "    dt = datetime(year=year, month=month, day=day, hour=hour, minute=minute, tzinfo=timezone(\"US/Pacific\"))\n",
    "    ts_ms = math.floor(dt.timestamp())*1000\n",
    "    print(ts_ms)\n",
    "    return(ts_ms)"
   ]
  },
  {
   "cell_type": "code",
   "execution_count": 38,
   "metadata": {},
   "outputs": [],
   "source": [
    "NOW = True\n",
    "ZEROSTART = True"
   ]
  },
  {
   "cell_type": "code",
   "execution_count": 39,
   "metadata": {},
   "outputs": [
    {
     "data": {
      "text/plain": [
       "1547146300000"
      ]
     },
     "execution_count": 39,
     "metadata": {},
     "output_type": "execute_result"
    }
   ],
   "source": [
    "if (NOW):\n",
    "    endMillis = math.floor(datetime.now(timezone(\"US/Pacific\")).timestamp())*1000\n",
    "else:\n",
    "    endMillis = get_timestamp_ms(2018, 10, 4, 16, 28)\n",
    "endMillis"
   ]
  },
  {
   "cell_type": "code",
   "execution_count": 40,
   "metadata": {},
   "outputs": [
    {
     "data": {
      "text/plain": [
       "0"
      ]
     },
     "execution_count": 40,
     "metadata": {},
     "output_type": "execute_result"
    }
   ],
   "source": [
    "if (ZEROSTART):\n",
    "    startMillis = 0\n",
    "else:\n",
    "    startMillis = get_timestamp_ms(2018, 10, 5, 0, 0)\n",
    "startMillis"
   ]
  },
  {
   "cell_type": "markdown",
   "metadata": {},
   "source": [
    "# Construct CURL String"
   ]
  },
  {
   "cell_type": "code",
   "execution_count": 41,
   "metadata": {},
   "outputs": [],
   "source": [
    "get_logs = \"curl --header \\\"accept: application/x-ndjson\\\" --header \\\"X-Domino-Api-Key: \" \\\n",
    "            + os.environ['DOMINO_USER_API_KEY'] \\\n",
    "            + \"\\\" '\" + deployment \\\n",
    "            + \"/v4/modelManager/\" + model_version_id \\\n",
    "            + \"/logs?startMillis=\" + str(startMillis) \\\n",
    "            + \"&endMillis=\" + str(endMillis) + \"'\" \\\n",
    "            + \" --output \" + output_file"
   ]
  },
  {
   "cell_type": "code",
   "execution_count": 42,
   "metadata": {},
   "outputs": [
    {
     "name": "stdout",
     "output_type": "stream",
     "text": [
      "curl --header \"accept: application/x-ndjson\" --header \"X-Domino-Api-Key: PtJHjlzP9fIMJXJWYc1krkBuEp5cBnKYy3EcDcdxIiTar5joQkWfitjLejOtHukk\" 'https://vip.domino.tech/v4/modelManager/5bb6a0d3c9e77c0007cdd20a/logs?startMillis=0&endMillis=1547146300000' --output churn-model-api-logs.txt.gz\n"
     ]
    }
   ],
   "source": [
    "print(get_logs)"
   ]
  },
  {
   "cell_type": "code",
   "execution_count": 43,
   "metadata": {},
   "outputs": [
    {
     "name": "stdout",
     "output_type": "stream",
     "text": [
      "  % Total    % Received % Xferd  Average Speed   Time    Time     Time  Current\n",
      "                                 Dload  Upload   Total   Spent    Left  Speed\n",
      "100  4950    0  4950    0     0    106      0 --:--:--  0:00:46 --:--:--   618\n"
     ]
    }
   ],
   "source": [
    "! rm $log_file\n",
    "! $get_logs\n",
    "! gunzip $output_file"
   ]
  },
  {
   "cell_type": "markdown",
   "metadata": {},
   "source": [
    "# Define Historical File"
   ]
  },
  {
   "cell_type": "code",
   "execution_count": 44,
   "metadata": {},
   "outputs": [],
   "source": [
    "#log_file = \"/mnt/data/churn-model-api-logs-save.txt\"\n",
    "historical_file = \"/mnt/data/churn_model_logs.txt\""
   ]
  },
  {
   "cell_type": "markdown",
   "metadata": {},
   "source": [
    "# Inspect Log File"
   ]
  },
  {
   "cell_type": "code",
   "execution_count": 45,
   "metadata": {},
   "outputs": [
    {
     "name": "stdout",
     "output_type": "stream",
     "text": [
      "{\"timeStamp\": \"20190104T000007.924Z\", \"requestId\": \"D3GZX98046NBFKRI\", \"input\": {\"data\": {\"dropperc\": 0.005843277609205058, \"mins\": 554.2785285076186, \"consecmonths\": 30.734780711499134, \"income\": 113.28177255131388}}, \"httpResponse\": 200, \"output\": [0.0004737811541669268], \"timingMillis\": 0}\n",
      "{\"timeStamp\": \"20190104T100007.958Z\", \"requestId\": \"46XEJZ19K28VMBGO\", \"input\": {\"data\": {\"dropperc\": 0.0054474928916813155, \"mins\": 327.38728275590375, \"consecmonths\": 27.881463235093612, \"income\": 89.32654252402223}}, \"httpResponse\": 200, \"output\": [0.0007670061639675887], \"timingMillis\": 0}\n"
     ]
    }
   ],
   "source": [
    "# view raw text\n",
    "\n",
    "f = open(log_file, \"r\")\n",
    "data = f.read()\n",
    "i=1\n",
    "printlist = data.split(\"\\n\")\n",
    "for line in printlist:\n",
    "    if i <= 2: print(line)\n",
    "    i += 1"
   ]
  },
  {
   "cell_type": "markdown",
   "metadata": {},
   "source": [
    "# Parse Log File"
   ]
  },
  {
   "cell_type": "code",
   "execution_count": 46,
   "metadata": {},
   "outputs": [
    {
     "data": {
      "text/plain": [
       "{'timeStamp': '20190104T000007.924Z',\n",
       " 'requestId': 'D3GZX98046NBFKRI',\n",
       " 'input': {'data': {'dropperc': 0.005843277609205058,\n",
       "   'mins': 554.2785285076186,\n",
       "   'consecmonths': 30.734780711499134,\n",
       "   'income': 113.28177255131388}},\n",
       " 'httpResponse': 200,\n",
       " 'output': [0.0004737811541669268],\n",
       " 'timingMillis': 0}"
      ]
     },
     "execution_count": 46,
     "metadata": {},
     "output_type": "execute_result"
    }
   ],
   "source": [
    "# parse with json library\n",
    "# view first line\n",
    "\n",
    "import json\n",
    "# one line at a time in a list\n",
    "data = []\n",
    "for line in open(log_file, 'r'):\n",
    "    data.append(json.loads(line))\n",
    "data[0]"
   ]
  },
  {
   "cell_type": "code",
   "execution_count": 47,
   "metadata": {},
   "outputs": [
    {
     "data": {
      "text/html": [
       "<div>\n",
       "<style scoped>\n",
       "    .dataframe tbody tr th:only-of-type {\n",
       "        vertical-align: middle;\n",
       "    }\n",
       "\n",
       "    .dataframe tbody tr th {\n",
       "        vertical-align: top;\n",
       "    }\n",
       "\n",
       "    .dataframe thead th {\n",
       "        text-align: right;\n",
       "    }\n",
       "</style>\n",
       "<table border=\"1\" class=\"dataframe\">\n",
       "  <thead>\n",
       "    <tr style=\"text-align: right;\">\n",
       "      <th></th>\n",
       "      <th>httpResponse</th>\n",
       "      <th>input</th>\n",
       "      <th>output</th>\n",
       "      <th>requestId</th>\n",
       "      <th>timeStamp</th>\n",
       "      <th>timingMillis</th>\n",
       "    </tr>\n",
       "  </thead>\n",
       "  <tbody>\n",
       "    <tr>\n",
       "      <th>0</th>\n",
       "      <td>200</td>\n",
       "      <td>{'data': {'dropperc': 0.005843277609205001, 'm...</td>\n",
       "      <td>[0.00047378115416600006]</td>\n",
       "      <td>D3GZX98046NBFKRI</td>\n",
       "      <td>2019-01-04 00:00:07.924</td>\n",
       "      <td>0</td>\n",
       "    </tr>\n",
       "    <tr>\n",
       "      <th>1</th>\n",
       "      <td>200</td>\n",
       "      <td>{'data': {'dropperc': 0.005447492891681001, 'm...</td>\n",
       "      <td>[0.000767006163967]</td>\n",
       "      <td>46XEJZ19K28VMBGO</td>\n",
       "      <td>2019-01-04 10:00:07.958</td>\n",
       "      <td>0</td>\n",
       "    </tr>\n",
       "    <tr>\n",
       "      <th>2</th>\n",
       "      <td>200</td>\n",
       "      <td>{'data': {'dropperc': 0.004642829469224, 'mins...</td>\n",
       "      <td>[4.0223261783181806e-05]</td>\n",
       "      <td>0Y13GPBOWSQLEMCZ</td>\n",
       "      <td>2019-01-04 12:00:07.319</td>\n",
       "      <td>1</td>\n",
       "    </tr>\n",
       "    <tr>\n",
       "      <th>3</th>\n",
       "      <td>200</td>\n",
       "      <td>{'data': {'dropperc': 0.001313925254447, 'mins...</td>\n",
       "      <td>[0.0005485569445730001]</td>\n",
       "      <td>I1D4E96P3ST5NXVM</td>\n",
       "      <td>2019-01-04 22:00:14.083</td>\n",
       "      <td>0</td>\n",
       "    </tr>\n",
       "    <tr>\n",
       "      <th>4</th>\n",
       "      <td>200</td>\n",
       "      <td>{'data': {'dropperc': 0.0023735855312310003, '...</td>\n",
       "      <td>[9.021912964289582e-05]</td>\n",
       "      <td>OK81LH2U57DPIRV4</td>\n",
       "      <td>2019-01-05 00:00:10.760</td>\n",
       "      <td>0</td>\n",
       "    </tr>\n",
       "  </tbody>\n",
       "</table>\n",
       "</div>"
      ],
      "text/plain": [
       "   httpResponse                                              input  \\\n",
       "0           200  {'data': {'dropperc': 0.005843277609205001, 'm...   \n",
       "1           200  {'data': {'dropperc': 0.005447492891681001, 'm...   \n",
       "2           200  {'data': {'dropperc': 0.004642829469224, 'mins...   \n",
       "3           200  {'data': {'dropperc': 0.001313925254447, 'mins...   \n",
       "4           200  {'data': {'dropperc': 0.0023735855312310003, '...   \n",
       "\n",
       "                     output         requestId               timeStamp  \\\n",
       "0  [0.00047378115416600006]  D3GZX98046NBFKRI 2019-01-04 00:00:07.924   \n",
       "1       [0.000767006163967]  46XEJZ19K28VMBGO 2019-01-04 10:00:07.958   \n",
       "2  [4.0223261783181806e-05]  0Y13GPBOWSQLEMCZ 2019-01-04 12:00:07.319   \n",
       "3   [0.0005485569445730001]  I1D4E96P3ST5NXVM 2019-01-04 22:00:14.083   \n",
       "4   [9.021912964289582e-05]  OK81LH2U57DPIRV4 2019-01-05 00:00:10.760   \n",
       "\n",
       "   timingMillis  \n",
       "0             0  \n",
       "1             0  \n",
       "2             1  \n",
       "3             0  \n",
       "4             0  "
      ]
     },
     "execution_count": 47,
     "metadata": {},
     "output_type": "execute_result"
    }
   ],
   "source": [
    "# load into df\n",
    "# view first rows\n",
    "\n",
    "import pandas as pd\n",
    "df = pd.read_json(json.dumps(data))\n",
    "df.head()"
   ]
  },
  {
   "cell_type": "code",
   "execution_count": 48,
   "metadata": {},
   "outputs": [
    {
     "data": {
      "text/html": [
       "<div>\n",
       "<style scoped>\n",
       "    .dataframe tbody tr th:only-of-type {\n",
       "        vertical-align: middle;\n",
       "    }\n",
       "\n",
       "    .dataframe tbody tr th {\n",
       "        vertical-align: top;\n",
       "    }\n",
       "\n",
       "    .dataframe thead th {\n",
       "        text-align: right;\n",
       "    }\n",
       "</style>\n",
       "<table border=\"1\" class=\"dataframe\">\n",
       "  <thead>\n",
       "    <tr style=\"text-align: right;\">\n",
       "      <th></th>\n",
       "      <th>data.consecmonths</th>\n",
       "      <th>data.dropperc</th>\n",
       "      <th>data.income</th>\n",
       "      <th>data.mins</th>\n",
       "    </tr>\n",
       "  </thead>\n",
       "  <tbody>\n",
       "    <tr>\n",
       "      <th>0</th>\n",
       "      <td>30.734781</td>\n",
       "      <td>0.005843</td>\n",
       "      <td>113.281773</td>\n",
       "      <td>554.278529</td>\n",
       "    </tr>\n",
       "    <tr>\n",
       "      <th>1</th>\n",
       "      <td>27.881463</td>\n",
       "      <td>0.005447</td>\n",
       "      <td>89.326543</td>\n",
       "      <td>327.387283</td>\n",
       "    </tr>\n",
       "    <tr>\n",
       "      <th>2</th>\n",
       "      <td>22.316120</td>\n",
       "      <td>0.004643</td>\n",
       "      <td>47.024861</td>\n",
       "      <td>475.315687</td>\n",
       "    </tr>\n",
       "    <tr>\n",
       "      <th>3</th>\n",
       "      <td>25.898372</td>\n",
       "      <td>0.001314</td>\n",
       "      <td>90.532393</td>\n",
       "      <td>344.925100</td>\n",
       "    </tr>\n",
       "    <tr>\n",
       "      <th>4</th>\n",
       "      <td>20.925060</td>\n",
       "      <td>0.002374</td>\n",
       "      <td>80.892233</td>\n",
       "      <td>543.122252</td>\n",
       "    </tr>\n",
       "  </tbody>\n",
       "</table>\n",
       "</div>"
      ],
      "text/plain": [
       "   data.consecmonths  data.dropperc  data.income   data.mins\n",
       "0          30.734781       0.005843   113.281773  554.278529\n",
       "1          27.881463       0.005447    89.326543  327.387283\n",
       "2          22.316120       0.004643    47.024861  475.315687\n",
       "3          25.898372       0.001314    90.532393  344.925100\n",
       "4          20.925060       0.002374    80.892233  543.122252"
      ]
     },
     "execution_count": 48,
     "metadata": {},
     "output_type": "execute_result"
    }
   ],
   "source": [
    "# flatten 'input'\n",
    "# view first rows\n",
    "\n",
    "from pandas.io.json import json_normalize\n",
    "input_df = json_normalize(df.input)\n",
    "input_df.head()"
   ]
  },
  {
   "cell_type": "code",
   "execution_count": 49,
   "metadata": {},
   "outputs": [
    {
     "name": "stdout",
     "output_type": "stream",
     "text": [
      "First line of 'output': [0.00047378115416600006]\n"
     ]
    },
    {
     "data": {
      "text/html": [
       "<div>\n",
       "<style scoped>\n",
       "    .dataframe tbody tr th:only-of-type {\n",
       "        vertical-align: middle;\n",
       "    }\n",
       "\n",
       "    .dataframe tbody tr th {\n",
       "        vertical-align: top;\n",
       "    }\n",
       "\n",
       "    .dataframe thead th {\n",
       "        text-align: right;\n",
       "    }\n",
       "</style>\n",
       "<table border=\"1\" class=\"dataframe\">\n",
       "  <thead>\n",
       "    <tr style=\"text-align: right;\">\n",
       "      <th></th>\n",
       "      <th>output</th>\n",
       "    </tr>\n",
       "  </thead>\n",
       "  <tbody>\n",
       "    <tr>\n",
       "      <th>0</th>\n",
       "      <td>0.000474</td>\n",
       "    </tr>\n",
       "    <tr>\n",
       "      <th>1</th>\n",
       "      <td>0.000767</td>\n",
       "    </tr>\n",
       "    <tr>\n",
       "      <th>2</th>\n",
       "      <td>0.000040</td>\n",
       "    </tr>\n",
       "    <tr>\n",
       "      <th>3</th>\n",
       "      <td>0.000549</td>\n",
       "    </tr>\n",
       "    <tr>\n",
       "      <th>4</th>\n",
       "      <td>0.000090</td>\n",
       "    </tr>\n",
       "  </tbody>\n",
       "</table>\n",
       "</div>"
      ],
      "text/plain": [
       "     output\n",
       "0  0.000474\n",
       "1  0.000767\n",
       "2  0.000040\n",
       "3  0.000549\n",
       "4  0.000090"
      ]
     },
     "execution_count": 49,
     "metadata": {},
     "output_type": "execute_result"
    }
   ],
   "source": [
    "# flatten 'output'\n",
    "# not formatted right for json_normalized\n",
    "# use string functions\n",
    "# view pre and post processing\n",
    "\n",
    "print(\"First line of 'output': \" + str(df.output.values[0]))\n",
    "\n",
    "s=\"\"\n",
    "for v in df.output.values:\n",
    "     s+=str(v) + \",\"\n",
    "res=[s]\n",
    "res[0] = res[0][:-1]\n",
    "res[0] = res[0].replace(\"{'churn_Y': \",\"\")\n",
    "res[0] = res[0].replace(\"}\",\"\")\n",
    "res[0] = res[0].replace(\"nan\",\"\")\n",
    "res[0] = res[0].replace(\"[\",\"\")\n",
    "res[0] = res[0].replace(\"]\",\"\")\n",
    "out_list = res[0].split(\",\")\n",
    "out_df = pd.DataFrame({'output':out_list})\n",
    "out_df = out_df.apply(pd.to_numeric, errors='ignore')\n",
    "out_df.head()"
   ]
  },
  {
   "cell_type": "code",
   "execution_count": 50,
   "metadata": {
    "scrolled": true
   },
   "outputs": [],
   "source": [
    "# join input and output back in\n",
    "# view first rows\n",
    "\n",
    "df = df.drop(['input'],axis=1)\n",
    "df = df.drop(['output'],axis=1)\n",
    "collist = df.columns.values.tolist()\n",
    "df = df[collist].join(input_df).join(out_df)"
   ]
  },
  {
   "cell_type": "markdown",
   "metadata": {},
   "source": [
    "# Parse Historical File"
   ]
  },
  {
   "cell_type": "code",
   "execution_count": 51,
   "metadata": {},
   "outputs": [],
   "source": [
    "# grab historical data\n",
    "\n",
    "import json\n",
    "# one line at a time in a list\n",
    "data_baseline = []\n",
    "for line in open(historical_file, 'r'):\n",
    "    data_baseline.append(json.loads(line))\n",
    "    \n",
    "import pandas as pd\n",
    "df_baseline = pd.read_json(json.dumps(data_baseline))\n",
    "\n",
    "from pandas.io.json import json_normalize\n",
    "input_df_baseline = json_normalize(df_baseline.input)\n",
    "\n",
    "s=\"\"\n",
    "for v in df_baseline.output.values:\n",
    "     s+=str(v) + \",\"\n",
    "res=[s]\n",
    "res[0] = res[0][:-1]\n",
    "res[0] = res[0].replace(\"{'churn_Y': \",\"\")\n",
    "res[0] = res[0].replace(\"}\",\"\")\n",
    "res[0] = res[0].replace(\"nan\",\"\")\n",
    "res[0] = res[0].replace(\"[\",\"\")\n",
    "res[0] = res[0].replace(\"]\",\"\")\n",
    "out_list_baseline = res[0].split(\",\")\n",
    "out_df_baseline = pd.DataFrame({'output':out_list_baseline})\n",
    "out_df_baseline = out_df_baseline.apply(pd.to_numeric, errors='ignore')\n",
    "\n",
    "df_baseline = df_baseline.drop(['input'],axis=1)\n",
    "df_baseline = df_baseline.drop(['output'],axis=1)\n",
    "collist = df_baseline.columns.values.tolist()\n",
    "df_baseline = df_baseline[collist].join(input_df_baseline).join(out_df_baseline)"
   ]
  },
  {
   "cell_type": "markdown",
   "metadata": {},
   "source": [
    "# Compare Log and Historical"
   ]
  },
  {
   "cell_type": "code",
   "execution_count": 52,
   "metadata": {},
   "outputs": [],
   "source": [
    "# libraries for graphing\n",
    "\n",
    "import numpy as np\n",
    "import matplotlib.pyplot as plt\n",
    "from matplotlib.ticker import NullFormatter\n",
    "import matplotlib.dates as mdates\n",
    "%matplotlib inline\n",
    "from scipy.stats import kurtosis"
   ]
  },
  {
   "cell_type": "code",
   "execution_count": 53,
   "metadata": {},
   "outputs": [],
   "source": [
    "# sort both dfs\n",
    "\n",
    "df = df.sort_values(by=['timeStamp'])\n",
    "df_baseline = df_baseline.sort_values(by=['timeStamp'])"
   ]
  },
  {
   "cell_type": "code",
   "execution_count": 54,
   "metadata": {},
   "outputs": [
    {
     "data": {
      "text/html": [
       "<div>\n",
       "<style scoped>\n",
       "    .dataframe tbody tr th:only-of-type {\n",
       "        vertical-align: middle;\n",
       "    }\n",
       "\n",
       "    .dataframe tbody tr th {\n",
       "        vertical-align: top;\n",
       "    }\n",
       "\n",
       "    .dataframe thead th {\n",
       "        text-align: right;\n",
       "    }\n",
       "</style>\n",
       "<table border=\"1\" class=\"dataframe\">\n",
       "  <thead>\n",
       "    <tr style=\"text-align: right;\">\n",
       "      <th></th>\n",
       "      <th>httpResponse</th>\n",
       "      <th>requestId</th>\n",
       "      <th>timeStamp</th>\n",
       "      <th>timingMillis</th>\n",
       "      <th>data.consecmonths</th>\n",
       "      <th>data.dropperc</th>\n",
       "      <th>data.income</th>\n",
       "      <th>data.mins</th>\n",
       "      <th>output</th>\n",
       "    </tr>\n",
       "  </thead>\n",
       "  <tbody>\n",
       "    <tr>\n",
       "      <th>7926</th>\n",
       "      <td>200</td>\n",
       "      <td>5OB7X3CRN0M8SAJF</td>\n",
       "      <td>2016-01-01 05:29:46.099</td>\n",
       "      <td>0</td>\n",
       "      <td>20</td>\n",
       "      <td>0.0210</td>\n",
       "      <td>79.4</td>\n",
       "      <td>525</td>\n",
       "      <td>0.0007</td>\n",
       "    </tr>\n",
       "    <tr>\n",
       "      <th>7925</th>\n",
       "      <td>200</td>\n",
       "      <td>5OB7X3CRN0M8SAJF</td>\n",
       "      <td>2016-01-01 06:42:38.623</td>\n",
       "      <td>0</td>\n",
       "      <td>27</td>\n",
       "      <td>0.0135</td>\n",
       "      <td>108.1</td>\n",
       "      <td>445</td>\n",
       "      <td>0.0006</td>\n",
       "    </tr>\n",
       "    <tr>\n",
       "      <th>7924</th>\n",
       "      <td>200</td>\n",
       "      <td>5OB7X3CRN0M8SAJF</td>\n",
       "      <td>2016-01-01 07:52:49.891</td>\n",
       "      <td>0</td>\n",
       "      <td>20</td>\n",
       "      <td>0.0193</td>\n",
       "      <td>78.9</td>\n",
       "      <td>466</td>\n",
       "      <td>0.0002</td>\n",
       "    </tr>\n",
       "    <tr>\n",
       "      <th>7923</th>\n",
       "      <td>200</td>\n",
       "      <td>5OB7X3CRN0M8SAJF</td>\n",
       "      <td>2016-01-01 08:35:18.523</td>\n",
       "      <td>0</td>\n",
       "      <td>33</td>\n",
       "      <td>0.0098</td>\n",
       "      <td>72.2</td>\n",
       "      <td>512</td>\n",
       "      <td>0.0005</td>\n",
       "    </tr>\n",
       "    <tr>\n",
       "      <th>7922</th>\n",
       "      <td>200</td>\n",
       "      <td>5OB7X3CRN0M8SAJF</td>\n",
       "      <td>2016-01-01 09:36:04.824</td>\n",
       "      <td>0</td>\n",
       "      <td>21</td>\n",
       "      <td>0.0282</td>\n",
       "      <td>83.7</td>\n",
       "      <td>390</td>\n",
       "      <td>0.0001</td>\n",
       "    </tr>\n",
       "  </tbody>\n",
       "</table>\n",
       "</div>"
      ],
      "text/plain": [
       "      httpResponse         requestId               timeStamp  timingMillis  \\\n",
       "7926           200  5OB7X3CRN0M8SAJF 2016-01-01 05:29:46.099             0   \n",
       "7925           200  5OB7X3CRN0M8SAJF 2016-01-01 06:42:38.623             0   \n",
       "7924           200  5OB7X3CRN0M8SAJF 2016-01-01 07:52:49.891             0   \n",
       "7923           200  5OB7X3CRN0M8SAJF 2016-01-01 08:35:18.523             0   \n",
       "7922           200  5OB7X3CRN0M8SAJF 2016-01-01 09:36:04.824             0   \n",
       "\n",
       "      data.consecmonths  data.dropperc  data.income  data.mins  output  \n",
       "7926                 20         0.0210         79.4        525  0.0007  \n",
       "7925                 27         0.0135        108.1        445  0.0006  \n",
       "7924                 20         0.0193         78.9        466  0.0002  \n",
       "7923                 33         0.0098         72.2        512  0.0005  \n",
       "7922                 21         0.0282         83.7        390  0.0001  "
      ]
     },
     "execution_count": 54,
     "metadata": {},
     "output_type": "execute_result"
    }
   ],
   "source": [
    "df_baseline.head()"
   ]
  },
  {
   "cell_type": "code",
   "execution_count": 55,
   "metadata": {},
   "outputs": [],
   "source": [
    "test=~df['data.mins'].isnull()"
   ]
  },
  {
   "cell_type": "code",
   "execution_count": 56,
   "metadata": {},
   "outputs": [
    {
     "data": {
      "text/plain": [
       "array([554.27852851, 327.38728276, 475.31568683, 344.92510046,\n",
       "       543.12225188, 145.50697267, 307.33197319, 455.71205779,\n",
       "        96.35380724, 421.39325251, 450.4864609 , 375.64314146,\n",
       "       179.84352934, 410.80579269, 180.72041153, 581.70029065,\n",
       "       214.05422925, 644.89288794,  47.36942674, 242.        ,\n",
       "       242.        , 242.        , 242.        , 242.        ,\n",
       "       242.        , 242.        , 242.        , 242.        ,\n",
       "       242.        , 242.        , 242.        , 242.        ,\n",
       "       242.        , 242.        , 242.        , 242.        ,\n",
       "       242.        , 242.        , 242.        , 242.        ,\n",
       "       242.        , 242.        , 242.        , 242.        ,\n",
       "       242.        , 242.        , 242.        , 242.        ,\n",
       "       242.        ,   2.        ,   2.        ,   2.        ,\n",
       "         2.        ,   2.        , 242.        , 242.        ,\n",
       "       242.        , 242.        , 242.        , 307.39802947,\n",
       "        57.5994676 , 233.18489485, 118.09465348, 500.83513799,\n",
       "       298.356793  , 211.16125943,  64.75522747, 301.61258483,\n",
       "       170.55815399, 180.35193815])"
      ]
     },
     "execution_count": 56,
     "metadata": {},
     "output_type": "execute_result"
    }
   ],
   "source": [
    "df[test]['data.mins'].values"
   ]
  },
  {
   "cell_type": "code",
   "execution_count": 57,
   "metadata": {},
   "outputs": [],
   "source": [
    "# function to make a comparison graph\n",
    "\n",
    "def logplot(var, check_days_back):\n",
    "    # set data inputs\n",
    "    yhist = pd.DataFrame(df_baseline[var]).dropna().values\n",
    "    y_not_nan = ~df[var].isnull()\n",
    "    y = df[y_not_nan][var].values\n",
    "    x = mdates.date2num(df[y_not_nan]['timeStamp'])\n",
    "    numobs = pd.DataFrame(df[var]).shape[0]\n",
    "        \n",
    "    histymax = max(yhist)\n",
    "    histymin = min(yhist)\n",
    "    histysigma3 = np.std(yhist) * 3\n",
    "    histymean = np.mean(yhist)\n",
    "    histy999 = np.percentile(yhist, 99.9)\n",
    "    histy001 = np.percentile(yhist, 0.1)\n",
    "\n",
    "    yOOB = np.logical_or(y > histymax, y < histymin)\n",
    "    yWarn = np.logical_and(np.logical_or(y > histy999, y < histy001),~yOOB)\n",
    "    \n",
    "    # check for OOB values and set exit flag\n",
    "    check_date = max(df.timeStamp)-timedelta(check_days_back)\n",
    "    check_df = df[(df['timeStamp'] > check_date)]\n",
    "    check_max = max(check_df[var])\n",
    "    check_min = min(check_df[var])\n",
    "    exit_flag = False\n",
    "    if (check_max > histymax) or (check_min < histymin):\n",
    "        exit_flag = True\n",
    "    \n",
    "    # special sauce\n",
    "    bins = int(min(max(-1/10 * abs(abs(kurtosis(pd.DataFrame(df_baseline[var]).dropna().values)) - 3)**2\n",
    "                       + 20, 5),30))\n",
    " \n",
    "\n",
    "    # set limits\n",
    "    ymax = max(histymax,max(y))\n",
    "    ymin = min(histymin,min(y))\n",
    "    binwidth = (ymax - ymin)/bins\n",
    "    #ylim_up = (int(ymax/binwidth) + 1) * binwidth\n",
    "    #ylim_lw = (int(ymin/binwidth) - 1) * binwidth\n",
    "    ylim_up = ymax + binwidth\n",
    "    ylim_lw = ymin - binwidth\n",
    "    # no labels (used for trend line)\n",
    "    nullfmt = NullFormatter()         \n",
    "\n",
    "    # definitions for the axes\n",
    "    left, width = 0.1, 0.65\n",
    "    bottom, height = 0.1, 0.65\n",
    "    bottom_h = left_h = left + width + 0.02\n",
    "    rect_plt = [left, bottom, width, height]\n",
    "    rect_histy = [left_h-.975, bottom, 0.3, height]\n",
    "\n",
    "    # start with a rectangular Figure\n",
    "    plt.figure(1, figsize=(8, 5))\n",
    "\n",
    "    # set shape\n",
    "    axHisty = plt.axes(rect_histy)\n",
    "    ax = plt.axes(rect_plt)\n",
    "\n",
    "    # trend line\n",
    "    ax.yaxis.set_major_formatter(nullfmt)\n",
    "    ax.set_ylim((ylim_lw, ylim_up))\n",
    "    ax.xaxis.set_major_formatter(mdates.DateFormatter('%Y-%m-%d %H:%M:%S'))\n",
    "    ax.axes.get_yaxis().set_ticks([])\n",
    "    #ax.plot(x, y[~yOOB], 'o-')\n",
    "\n",
    "\n",
    "    #ax.hold(True)\n",
    "\n",
    "    # draw some lines behind the scatter plots (using zorder)\n",
    "    ax.plot(x, y)\n",
    "\n",
    "    # scatter valid (not warning) points in blue (c='b')\n",
    "    ax.scatter(x[~yOOB], y[~yOOB])\n",
    "\n",
    "    # scatter warning points in red (c='r')\n",
    "    if np.any(y[yWarn]):\n",
    "        plt.scatter(x[yWarn], y[yWarn], label='warning', c='m')\n",
    "    if np.any(y[yOOB]):\n",
    "        plt.scatter(x[yOOB], y[yOOB], label='out of bounds', c='r')\n",
    "\n",
    "\n",
    "    #min/max lines\n",
    "    ax.axhline(y=histymax, color='r', linestyle='-', linewidth = 1, label=\"historical max/min\")\n",
    "    ax.axhline(y=histymin, color='r', linestyle='-', linewidth = 1)\n",
    "    tooclose = (histymax - histymin)/30\n",
    "    if histy999 < histymax - tooclose and histy999 < histymax:\n",
    "        ax.axhline(y=histy999, color='m', linestyle='--', linewidth = 1, label = \"1/1000 event\")\n",
    "        if histy001 > histymin + tooclose and histy001 > histymin:\n",
    "            ax.axhline(y=histy001, color='m', linestyle='--', linewidth = 1)\n",
    "        elif histy001 > histymin + tooclose and histy001 > histymin:\n",
    "            ax.axhline(y=histy001, color='m', linestyle='--', linewidth = 1, label = \"1/1000 event\")\n",
    "\n",
    "    # histogram\n",
    "    #bins = np.arange(ylim_lw, ylim_up + binwidth, binwidth)\n",
    "    (n, binsout, patches) = axHisty.hist(yhist, bins=bins, orientation='horizontal')\n",
    "    axHisty.set_ylim(ylim_lw,ylim_up)\n",
    "    axHisty.set_xlim(-max(n)/20,max(n)+max(n)/20)\n",
    "\n",
    "    plt.title(\"Trend of '\" + var + \"'\\nFor Selected Model Runs\\nCompared to Baseline\", {'fontsize': 16})\n",
    "    plt.xticks(rotation=90)\n",
    "    lgd = plt.legend(bbox_to_anchor=(1.05, 1), loc=2, borderaxespad=0.)    \n",
    "    plt.savefig('/mnt/results/' + var + '.png', format='png', bbox_extra_artists=(lgd,), bbox_inches='tight')\n",
    "    plt.show()\n",
    "    plt.clf()\n",
    "    return(exit_flag)"
   ]
  },
  {
   "cell_type": "code",
   "execution_count": 58,
   "metadata": {},
   "outputs": [],
   "source": [
    "# lists to keep track of vars for error statement and if we should exit at all\n",
    "oob_vars = list()\n",
    "exit_status = list()"
   ]
  },
  {
   "cell_type": "code",
   "execution_count": 59,
   "metadata": {},
   "outputs": [
    {
     "data": {
      "image/png": "[encoded data removed]",
      "text/plain": [
       "<Figure size 576x360 with 2 Axes>"
      ]
     },
     "metadata": {},
     "output_type": "display_data"
    },
    {
     "data": {
      "text/plain": [
       "<Figure size 432x288 with 0 Axes>"
      ]
     },
     "metadata": {},
     "output_type": "display_data"
    }
   ],
   "source": [
    "check = logplot('output', check_days_back)\n",
    "exit_status.append(check)\n",
    "if exit_status[len(exit_status)-1]:\n",
    "    oob_vars.append('output')"
   ]
  },
  {
   "cell_type": "code",
   "execution_count": 60,
   "metadata": {},
   "outputs": [
    {
     "data": {
      "image/png": "[encoded data removed]",
      "text/plain": [
       "<Figure size 576x360 with 2 Axes>"
      ]
     },
     "metadata": {},
     "output_type": "display_data"
    },
    {
     "data": {
      "text/plain": [
       "<Figure size 432x288 with 0 Axes>"
      ]
     },
     "metadata": {},
     "output_type": "display_data"
    }
   ],
   "source": [
    "check = logplot('data.mins', check_days_back)\n",
    "exit_status.append(check)\n",
    "if exit_status[len(exit_status)-1]:\n",
    "    oob_vars.append('data.mins')"
   ]
  },
  {
   "cell_type": "code",
   "execution_count": 61,
   "metadata": {},
   "outputs": [
    {
     "data": {
      "image/png": "[encoded data removed]",
      "text/plain": [
       "<Figure size 576x360 with 2 Axes>"
      ]
     },
     "metadata": {},
     "output_type": "display_data"
    },
    {
     "data": {
      "text/plain": [
       "<Figure size 432x288 with 0 Axes>"
      ]
     },
     "metadata": {},
     "output_type": "display_data"
    }
   ],
   "source": [
    "check = logplot('data.dropperc', check_days_back)\n",
    "exit_status.append(check)\n",
    "if exit_status[len(exit_status)-1]:\n",
    "    oob_vars.append('data.dropperc')"
   ]
  },
  {
   "cell_type": "code",
   "execution_count": 62,
   "metadata": {},
   "outputs": [
    {
     "data": {
      "image/png": "[encoded data removed]",
      "text/plain": [
       "<Figure size 576x360 with 2 Axes>"
      ]
     },
     "metadata": {},
     "output_type": "display_data"
    },
    {
     "data": {
      "text/plain": [
       "<Figure size 432x288 with 0 Axes>"
      ]
     },
     "metadata": {},
     "output_type": "display_data"
    }
   ],
   "source": [
    "check = logplot('data.income', check_days_back)\n",
    "exit_status.append(check)\n",
    "if exit_status[len(exit_status)-1]:\n",
    "    oob_vars.append('data.income')"
   ]
  },
  {
   "cell_type": "code",
   "execution_count": 63,
   "metadata": {},
   "outputs": [
    {
     "data": {
      "image/png": "[encoded data removed]",
      "text/plain": [
       "<Figure size 576x360 with 2 Axes>"
      ]
     },
     "metadata": {},
     "output_type": "display_data"
    },
    {
     "data": {
      "text/plain": [
       "<Figure size 432x288 with 0 Axes>"
      ]
     },
     "metadata": {},
     "output_type": "display_data"
    }
   ],
   "source": [
    "check = logplot('data.consecmonths', check_days_back)\n",
    "exit_status.append(check)\n",
    "if exit_status[len(exit_status)-1]:\n",
    "    oob_vars.append('data.consecmonths')"
   ]
  },
  {
   "cell_type": "code",
   "execution_count": 64,
   "metadata": {},
   "outputs": [],
   "source": [
    "var_list = \"\"\n",
    "i=1\n",
    "for var in oob_vars:\n",
    "    if i == 1:\n",
    "        var_list = var_list + var\n",
    "    else:\n",
    "        var_list = var_list + \", \" + var\n",
    "    i += 1"
   ]
  },
  {
   "cell_type": "code",
   "execution_count": 65,
   "metadata": {},
   "outputs": [
    {
     "data": {
      "text/plain": [
       "['data.mins', 'data.income']"
      ]
     },
     "execution_count": 65,
     "metadata": {},
     "output_type": "execute_result"
    }
   ],
   "source": [
    "oob_vars"
   ]
  },
  {
   "cell_type": "code",
   "execution_count": 66,
   "metadata": {},
   "outputs": [
    {
     "data": {
      "text/plain": [
       "[False, True, False, True, False]"
      ]
     },
     "execution_count": 66,
     "metadata": {},
     "output_type": "execute_result"
    }
   ],
   "source": [
    "exit_status"
   ]
  },
  {
   "cell_type": "code",
   "execution_count": 33,
   "metadata": {
    "collapsed": true
   },
   "outputs": [],
   "source": [
    "if any(exit_status):\n",
    "    sys.exit(\"Out of bounds values in: \" + var_list)"
   ]
  }
 ],
 "metadata": {
  "kernelspec": {
   "display_name": "Python 3",
   "language": "python",
   "name": "python3"
  },
  "language_info": {
   "codemirror_mode": {
    "name": "ipython",
    "version": 3
   },
   "file_extension": ".py",
   "mimetype": "text/x-python",
   "name": "python",
   "nbconvert_exporter": "python",
   "pygments_lexer": "ipython3",
   "version": "3.6.6"
  }
 },
 "nbformat": 4,
 "nbformat_minor": 2
}
