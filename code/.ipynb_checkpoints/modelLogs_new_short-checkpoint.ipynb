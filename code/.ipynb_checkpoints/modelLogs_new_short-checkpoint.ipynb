{
 "cells": [
  {
   "cell_type": "code",
   "execution_count": 1,
   "metadata": {},
   "outputs": [
    {
     "name": "stdout",
     "output_type": "stream",
     "text": [
      "curl --header \"accept: application/x-ndjson\" --header \"X-Domino-Api-Key: PtJHjlzP9fIMJXJWYc1krkBuEp5cBnKYy3EcDcdxIiTar5joQkWfitjLejOtHukk\" 'https://vip.domino.tech/v4/modelManager/5bb6a0d3c9e77c0007cdd20a/logs?startMillis=0&endMillis=1543361241000' --output churn-model-api-logs.txt.gz\n",
      "rm: cannot remove ‘churn-model-api-logs.txt’: No such file or directory\n",
      "  % Total    % Received % Xferd  Average Speed   Time    Time     Time  Current\n",
      "                                 Dload  Upload   Total   Spent    Left  Speed\n",
      "100 10149    0 10149    0     0    374      0 --:--:--  0:00:27 --:--:--  2628  0     0    0     0      0      0 --:--:--  0:00:08 --:--:--     0\n",
      "{\"timeStamp\": \"20181121T100017.971Z\", \"requestId\": \"64ZU7D18CXHY3TGO\", \"input\": {\"data\": {\"dropperc\": 0.018177858142268105, \"mins\": 80.31717591326242, \"consecmonths\": 35.04714890297414, \"income\": 93.3840985570669}}, \"httpResponse\": 200, \"output\": [0.0007119546927974044], \"timingMillis\": 1}\n",
      "{\"timeStamp\": \"20181121T120008.935Z\", \"requestId\": \"IZUVS9DBE6KL4M2N\", \"input\": {\"data\": {\"dropperc\": 0.005588675528305872, \"mins\": 159.57509084334723, \"consecmonths\": 24.357094512803254, \"income\": 95.03246165776416}}, \"httpResponse\": 200, \"output\": [0.0005188024339766024], \"timingMillis\": 0}\n"
     ]
    }
   ],
   "source": [
    "from datetime import datetime\n",
    "from pytz import timezone\n",
    "import math\n",
    "import os\n",
    "import json\n",
    "\n",
    "# set variables\n",
    "deployment = \"https://vip.domino.tech\"\n",
    "model_version_id = \"5bb6a0d3c9e77c0007cdd20a\"\n",
    "log_file = \"churn-model-api-logs.txt\"\n",
    "output_file = log_file + \".gz\"\n",
    "API_key = os.environ['DOMINO_USER_API_KEY'] # Domino environment variable\n",
    "endMillis = math.floor(datetime.now(timezone(\"US/Pacific\")).timestamp())*1000 # current timestamp in Unix time\n",
    "startMillis = 0\n",
    "\n",
    "# the curl syntax\n",
    "get_logs = \"curl --header \\\"accept: application/x-ndjson\\\" --header \\\"X-Domino-Api-Key: \" \\\n",
    "            + API_key \\\n",
    "            + \"\\\" '\" + deployment \\\n",
    "            + \"/v4/modelManager/\" + model_version_id \\\n",
    "            + \"/logs?startMillis=\" + str(startMillis) \\\n",
    "            + \"&endMillis=\" + str(endMillis) + \"'\" \\\n",
    "            + \" --output \" + output_file\n",
    "print(get_logs)\n",
    "\n",
    "# make system calls\n",
    "! rm $log_file\n",
    "! $get_logs\n",
    "! gunzip $output_file\n",
    "\n",
    "# view raw text\n",
    "f = open(log_file, \"r\")\n",
    "data = f.read()\n",
    "i=1\n",
    "printlist = data.split(\"\\n\")\n",
    "for line in printlist:\n",
    "    if i <= 2: print(line)\n",
    "    i += 1"
   ]
  },
  {
   "cell_type": "code",
   "execution_count": null,
   "metadata": {},
   "outputs": [],
   "source": []
  }
 ],
 "metadata": {
  "kernelspec": {
   "display_name": "Python 3",
   "language": "python",
   "name": "python3"
  },
  "language_info": {
   "codemirror_mode": {
    "name": "ipython",
    "version": 3
   },
   "file_extension": ".py",
   "mimetype": "text/x-python",
   "name": "python",
   "nbconvert_exporter": "python",
   "pygments_lexer": "ipython3",
   "version": "3.6.2"
  }
 },
 "nbformat": 4,
 "nbformat_minor": 2
}
