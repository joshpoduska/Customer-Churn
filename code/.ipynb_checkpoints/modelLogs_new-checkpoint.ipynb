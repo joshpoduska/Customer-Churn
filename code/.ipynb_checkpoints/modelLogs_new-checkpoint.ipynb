{
 "cells": [
  {
   "cell_type": "code",
   "execution_count": 5,
   "metadata": {
    "collapsed": true
   },
   "outputs": [],
   "source": [
    "from datetime import datetime, timedelta\n",
    "from pytz import timezone\n",
    "import math\n",
    "import sys\n",
    "import os"
   ]
  },
  {
   "cell_type": "code",
   "execution_count": 6,
   "metadata": {
    "collapsed": true
   },
   "outputs": [],
   "source": [
    "# capture input - not working yet\n",
    "#check_days_back = sys.argv[1]\n",
    "\n",
    "# if setting check mannually\n",
    "check_days_back = 5"
   ]
  },
  {
   "cell_type": "markdown",
   "metadata": {},
   "source": [
    "# Define Variables and Functions"
   ]
  },
  {
   "cell_type": "code",
   "execution_count": 7,
   "metadata": {
    "collapsed": true
   },
   "outputs": [],
   "source": [
    "deployment = \"https://vip.domino.tech\"\n",
    "model_version_id = \"5bb6a0d3c9e77c0007cdd20a\"\n",
    "log_file = \"churn-model-api-logs.txt\"\n",
    "output_file = log_file + \".gz\""
   ]
  },
  {
   "cell_type": "code",
   "execution_count": 8,
   "metadata": {
    "collapsed": true
   },
   "outputs": [],
   "source": [
    "def get_timestamp_ms(year, month, day, hour, minute):\n",
    "    dt = datetime(year=year, month=month, day=day, hour=hour, minute=minute, tzinfo=timezone(\"US/Pacific\"))\n",
    "    ts_ms = math.floor(dt.timestamp())*1000\n",
    "    print(ts_ms)\n",
    "    return(ts_ms)"
   ]
  },
  {
   "cell_type": "code",
   "execution_count": 9,
   "metadata": {
    "collapsed": true
   },
   "outputs": [],
   "source": [
    "NOW = True\n",
    "ZEROSTART = True"
   ]
  },
  {
   "cell_type": "code",
   "execution_count": 10,
   "metadata": {},
   "outputs": [
    {
     "data": {
      "text/plain": [
       "1543355787000"
      ]
     },
     "execution_count": 10,
     "metadata": {},
     "output_type": "execute_result"
    }
   ],
   "source": [
    "if (NOW):\n",
    "    endMillis = math.floor(datetime.now(timezone(\"US/Pacific\")).timestamp())*1000\n",
    "else:\n",
    "    endMillis = get_timestamp_ms(2018, 10, 4, 16, 28)\n",
    "endMillis"
   ]
  },
  {
   "cell_type": "code",
   "execution_count": 11,
   "metadata": {},
   "outputs": [
    {
     "data": {
      "text/plain": [
       "0"
      ]
     },
     "execution_count": 11,
     "metadata": {},
     "output_type": "execute_result"
    }
   ],
   "source": [
    "if (ZEROSTART):\n",
    "    startMillis = 0\n",
    "else:\n",
    "    startMillis = get_timestamp_ms(2018, 10, 5, 0, 0)\n",
    "startMillis"
   ]
  },
  {
   "cell_type": "markdown",
   "metadata": {},
   "source": [
    "# Construct CURL String"
   ]
  },
  {
   "cell_type": "code",
   "execution_count": 13,
   "metadata": {
    "collapsed": true
   },
   "outputs": [],
   "source": [
    "get_logs = \"curl --header \\\"accept: application/x-ndjson\\\" --header \\\"X-Domino-Api-Key: \" \\\n",
    "            + os.environ['DOMINO_USER_API_KEY'] \\\n",
    "            + \"\\\" '\" + deployment \\\n",
    "            + \"/v4/modelManager/\" + model_version_id \\\n",
    "            + \"/logs?startMillis=\" + str(startMillis) \\\n",
    "            + \"&endMillis=\" + str(endMillis) + \"'\" \\\n",
    "            + \" --output \" + output_file"
   ]
  },
  {
   "cell_type": "code",
   "execution_count": 14,
   "metadata": {},
   "outputs": [
    {
     "name": "stdout",
     "output_type": "stream",
     "text": [
      "curl --header \"accept: application/x-ndjson\" --header \"X-Domino-Api-Key: PtJHjlzP9fIMJXJWYc1krkBuEp5cBnKYy3EcDcdxIiTar5joQkWfitjLejOtHukk\" 'https://vip.domino.tech/v4/modelManager/5bb6a0d3c9e77c0007cdd20a/logs?startMillis=0&endMillis=1543355787000' --output churn-model-api-logs.txt.gz\n"
     ]
    }
   ],
   "source": [
    "print(get_logs)"
   ]
  },
  {
   "cell_type": "code",
   "execution_count": 15,
   "metadata": {},
   "outputs": [
    {
     "name": "stdout",
     "output_type": "stream",
     "text": [
      "  % Total    % Received % Xferd  Average Speed   Time    Time     Time  Current\n",
      "                                 Dload  Upload   Total   Spent    Left  Speed\n",
      "100 10030    0 10030    0     0    508      0 --:--:--  0:00:19 --:--:--  2247\n"
     ]
    }
   ],
   "source": [
    "! rm $log_file\n",
    "! $get_logs\n",
    "! gunzip $output_file"
   ]
  },
  {
   "cell_type": "markdown",
   "metadata": {},
   "source": [
    "# Define Historical File"
   ]
  },
  {
   "cell_type": "code",
   "execution_count": 16,
   "metadata": {
    "collapsed": true
   },
   "outputs": [],
   "source": [
    "#log_file = \"/mnt/data/churn-model-api-logs-save.txt\"\n",
    "historical_file = \"/mnt/data/churn_model_logs.txt\""
   ]
  },
  {
   "cell_type": "markdown",
   "metadata": {},
   "source": [
    "# Inspect Log File"
   ]
  },
  {
   "cell_type": "code",
   "execution_count": 17,
   "metadata": {},
   "outputs": [
    {
     "name": "stdout",
     "output_type": "stream",
     "text": [
      "{\"timeStamp\": \"20181121T100017.971Z\", \"requestId\": \"64ZU7D18CXHY3TGO\", \"input\": {\"data\": {\"dropperc\": 0.018177858142268105, \"mins\": 80.31717591326242, \"consecmonths\": 35.04714890297414, \"income\": 93.3840985570669}}, \"httpResponse\": 200, \"output\": [0.0007119546927974044], \"timingMillis\": 1}\n",
      "{\"timeStamp\": \"20181121T120008.935Z\", \"requestId\": \"IZUVS9DBE6KL4M2N\", \"input\": {\"data\": {\"dropperc\": 0.005588675528305872, \"mins\": 159.57509084334723, \"consecmonths\": 24.357094512803254, \"income\": 95.03246165776416}}, \"httpResponse\": 200, \"output\": [0.0005188024339766024], \"timingMillis\": 0}\n"
     ]
    }
   ],
   "source": [
    "# view raw text\n",
    "\n",
    "f = open(log_file, \"r\")\n",
    "data = f.read()\n",
    "i=1\n",
    "printlist = data.split(\"\\n\")\n",
    "for line in printlist:\n",
    "    if i <= 2: print(line)\n",
    "    i += 1"
   ]
  },
  {
   "cell_type": "markdown",
   "metadata": {},
   "source": [
    "# Parse Log File"
   ]
  },
  {
   "cell_type": "code",
   "execution_count": 18,
   "metadata": {},
   "outputs": [
    {
     "data": {
      "text/plain": [
       "{'httpResponse': 200,\n",
       " 'input': {'data': {'consecmonths': 35.04714890297414,\n",
       "   'dropperc': 0.018177858142268105,\n",
       "   'income': 93.3840985570669,\n",
       "   'mins': 80.31717591326242}},\n",
       " 'output': [0.0007119546927974044],\n",
       " 'requestId': '64ZU7D18CXHY3TGO',\n",
       " 'timeStamp': '20181121T100017.971Z',\n",
       " 'timingMillis': 1}"
      ]
     },
     "execution_count": 18,
     "metadata": {},
     "output_type": "execute_result"
    }
   ],
   "source": [
    "# parse with json library\n",
    "# view first line\n",
    "\n",
    "import json\n",
    "# one line at a time in a list\n",
    "data = []\n",
    "for line in open(log_file, 'r'):\n",
    "    data.append(json.loads(line))\n",
    "data[0]"
   ]
  },
  {
   "cell_type": "code",
   "execution_count": 19,
   "metadata": {},
   "outputs": [
    {
     "data": {
      "text/html": [
       "<div>\n",
       "<style>\n",
       "    .dataframe thead tr:only-child th {\n",
       "        text-align: right;\n",
       "    }\n",
       "\n",
       "    .dataframe thead th {\n",
       "        text-align: left;\n",
       "    }\n",
       "\n",
       "    .dataframe tbody tr th {\n",
       "        vertical-align: top;\n",
       "    }\n",
       "</style>\n",
       "<table border=\"1\" class=\"dataframe\">\n",
       "  <thead>\n",
       "    <tr style=\"text-align: right;\">\n",
       "      <th></th>\n",
       "      <th>httpResponse</th>\n",
       "      <th>input</th>\n",
       "      <th>output</th>\n",
       "      <th>requestId</th>\n",
       "      <th>timeStamp</th>\n",
       "      <th>timingMillis</th>\n",
       "    </tr>\n",
       "  </thead>\n",
       "  <tbody>\n",
       "    <tr>\n",
       "      <th>0</th>\n",
       "      <td>200</td>\n",
       "      <td>{'data': {'dropperc': 0.018177858142268, 'mins...</td>\n",
       "      <td>[0.0007119546927970001]</td>\n",
       "      <td>64ZU7D18CXHY3TGO</td>\n",
       "      <td>2018-11-21 10:00:17.971</td>\n",
       "      <td>1</td>\n",
       "    </tr>\n",
       "    <tr>\n",
       "      <th>1</th>\n",
       "      <td>200</td>\n",
       "      <td>{'data': {'dropperc': 0.005588675528305001, 'm...</td>\n",
       "      <td>[0.0005188024339760001]</td>\n",
       "      <td>IZUVS9DBE6KL4M2N</td>\n",
       "      <td>2018-11-21 12:00:08.935</td>\n",
       "      <td>0</td>\n",
       "    </tr>\n",
       "    <tr>\n",
       "      <th>2</th>\n",
       "      <td>200</td>\n",
       "      <td>{'data': {'dropperc': 0.020713767857345, 'mins...</td>\n",
       "      <td>[0.00017766043851200002]</td>\n",
       "      <td>5UNBT4WZJPL18XC6</td>\n",
       "      <td>2018-11-21 22:00:09.048</td>\n",
       "      <td>0</td>\n",
       "    </tr>\n",
       "    <tr>\n",
       "      <th>3</th>\n",
       "      <td>200</td>\n",
       "      <td>{'data': {'dropperc': 0.008049954470518001, 'm...</td>\n",
       "      <td>[0.00013370110593300002]</td>\n",
       "      <td>YCJO2EF8N40IVAXS</td>\n",
       "      <td>2018-11-22 00:00:08.854</td>\n",
       "      <td>0</td>\n",
       "    </tr>\n",
       "    <tr>\n",
       "      <th>4</th>\n",
       "      <td>200</td>\n",
       "      <td>{'data': {'dropperc': 0.009975197125563, 'mins...</td>\n",
       "      <td>[3.2646415583550265e-05]</td>\n",
       "      <td>V6W25FN1SZ4GYEIQ</td>\n",
       "      <td>2018-11-22 10:00:09.070</td>\n",
       "      <td>0</td>\n",
       "    </tr>\n",
       "  </tbody>\n",
       "</table>\n",
       "</div>"
      ],
      "text/plain": [
       "   httpResponse                                              input  \\\n",
       "0           200  {'data': {'dropperc': 0.018177858142268, 'mins...   \n",
       "1           200  {'data': {'dropperc': 0.005588675528305001, 'm...   \n",
       "2           200  {'data': {'dropperc': 0.020713767857345, 'mins...   \n",
       "3           200  {'data': {'dropperc': 0.008049954470518001, 'm...   \n",
       "4           200  {'data': {'dropperc': 0.009975197125563, 'mins...   \n",
       "\n",
       "                     output         requestId               timeStamp  \\\n",
       "0   [0.0007119546927970001]  64ZU7D18CXHY3TGO 2018-11-21 10:00:17.971   \n",
       "1   [0.0005188024339760001]  IZUVS9DBE6KL4M2N 2018-11-21 12:00:08.935   \n",
       "2  [0.00017766043851200002]  5UNBT4WZJPL18XC6 2018-11-21 22:00:09.048   \n",
       "3  [0.00013370110593300002]  YCJO2EF8N40IVAXS 2018-11-22 00:00:08.854   \n",
       "4  [3.2646415583550265e-05]  V6W25FN1SZ4GYEIQ 2018-11-22 10:00:09.070   \n",
       "\n",
       "   timingMillis  \n",
       "0             1  \n",
       "1             0  \n",
       "2             0  \n",
       "3             0  \n",
       "4             0  "
      ]
     },
     "execution_count": 19,
     "metadata": {},
     "output_type": "execute_result"
    }
   ],
   "source": [
    "# load into df\n",
    "# view first rows\n",
    "\n",
    "import pandas as pd\n",
    "df = pd.read_json(json.dumps(data))\n",
    "df.head()"
   ]
  },
  {
   "cell_type": "code",
   "execution_count": 20,
   "metadata": {},
   "outputs": [
    {
     "data": {
      "text/html": [
       "<div>\n",
       "<style>\n",
       "    .dataframe thead tr:only-child th {\n",
       "        text-align: right;\n",
       "    }\n",
       "\n",
       "    .dataframe thead th {\n",
       "        text-align: left;\n",
       "    }\n",
       "\n",
       "    .dataframe tbody tr th {\n",
       "        vertical-align: top;\n",
       "    }\n",
       "</style>\n",
       "<table border=\"1\" class=\"dataframe\">\n",
       "  <thead>\n",
       "    <tr style=\"text-align: right;\">\n",
       "      <th></th>\n",
       "      <th>data.consecmonths</th>\n",
       "      <th>data.dropperc</th>\n",
       "      <th>data.income</th>\n",
       "      <th>data.mins</th>\n",
       "    </tr>\n",
       "  </thead>\n",
       "  <tbody>\n",
       "    <tr>\n",
       "      <th>0</th>\n",
       "      <td>35.047149</td>\n",
       "      <td>0.018178</td>\n",
       "      <td>93.384099</td>\n",
       "      <td>80.317176</td>\n",
       "    </tr>\n",
       "    <tr>\n",
       "      <th>1</th>\n",
       "      <td>24.357095</td>\n",
       "      <td>0.005589</td>\n",
       "      <td>95.032462</td>\n",
       "      <td>159.575091</td>\n",
       "    </tr>\n",
       "    <tr>\n",
       "      <th>2</th>\n",
       "      <td>18.116399</td>\n",
       "      <td>0.020714</td>\n",
       "      <td>99.163712</td>\n",
       "      <td>349.783964</td>\n",
       "    </tr>\n",
       "    <tr>\n",
       "      <th>3</th>\n",
       "      <td>14.136046</td>\n",
       "      <td>0.008050</td>\n",
       "      <td>95.106767</td>\n",
       "      <td>507.063423</td>\n",
       "    </tr>\n",
       "    <tr>\n",
       "      <th>4</th>\n",
       "      <td>29.415327</td>\n",
       "      <td>0.009975</td>\n",
       "      <td>5.676607</td>\n",
       "      <td>237.538087</td>\n",
       "    </tr>\n",
       "  </tbody>\n",
       "</table>\n",
       "</div>"
      ],
      "text/plain": [
       "   data.consecmonths  data.dropperc  data.income   data.mins\n",
       "0          35.047149       0.018178    93.384099   80.317176\n",
       "1          24.357095       0.005589    95.032462  159.575091\n",
       "2          18.116399       0.020714    99.163712  349.783964\n",
       "3          14.136046       0.008050    95.106767  507.063423\n",
       "4          29.415327       0.009975     5.676607  237.538087"
      ]
     },
     "execution_count": 20,
     "metadata": {},
     "output_type": "execute_result"
    }
   ],
   "source": [
    "# flatten 'input'\n",
    "# view first rows\n",
    "\n",
    "from pandas.io.json import json_normalize\n",
    "input_df = json_normalize(df.input)\n",
    "input_df.head()"
   ]
  },
  {
   "cell_type": "code",
   "execution_count": 21,
   "metadata": {},
   "outputs": [
    {
     "name": "stdout",
     "output_type": "stream",
     "text": [
      "First line of 'output': [0.0007119546927970001]\n"
     ]
    },
    {
     "data": {
      "text/html": [
       "<div>\n",
       "<style>\n",
       "    .dataframe thead tr:only-child th {\n",
       "        text-align: right;\n",
       "    }\n",
       "\n",
       "    .dataframe thead th {\n",
       "        text-align: left;\n",
       "    }\n",
       "\n",
       "    .dataframe tbody tr th {\n",
       "        vertical-align: top;\n",
       "    }\n",
       "</style>\n",
       "<table border=\"1\" class=\"dataframe\">\n",
       "  <thead>\n",
       "    <tr style=\"text-align: right;\">\n",
       "      <th></th>\n",
       "      <th>output</th>\n",
       "    </tr>\n",
       "  </thead>\n",
       "  <tbody>\n",
       "    <tr>\n",
       "      <th>0</th>\n",
       "      <td>0.000712</td>\n",
       "    </tr>\n",
       "    <tr>\n",
       "      <th>1</th>\n",
       "      <td>0.000519</td>\n",
       "    </tr>\n",
       "    <tr>\n",
       "      <th>2</th>\n",
       "      <td>0.000178</td>\n",
       "    </tr>\n",
       "    <tr>\n",
       "      <th>3</th>\n",
       "      <td>0.000134</td>\n",
       "    </tr>\n",
       "    <tr>\n",
       "      <th>4</th>\n",
       "      <td>0.000033</td>\n",
       "    </tr>\n",
       "  </tbody>\n",
       "</table>\n",
       "</div>"
      ],
      "text/plain": [
       "     output\n",
       "0  0.000712\n",
       "1  0.000519\n",
       "2  0.000178\n",
       "3  0.000134\n",
       "4  0.000033"
      ]
     },
     "execution_count": 21,
     "metadata": {},
     "output_type": "execute_result"
    }
   ],
   "source": [
    "# flatten 'output'\n",
    "# not formatted right for json_normalized\n",
    "# use string functions\n",
    "# view pre and post processing\n",
    "\n",
    "print(\"First line of 'output': \" + str(df.output.values[0]))\n",
    "\n",
    "s=\"\"\n",
    "for v in df.output.values:\n",
    "     s+=str(v) + \",\"\n",
    "res=[s]\n",
    "res[0] = res[0][:-1]\n",
    "res[0] = res[0].replace(\"{'churn_Y': \",\"\")\n",
    "res[0] = res[0].replace(\"}\",\"\")\n",
    "res[0] = res[0].replace(\"nan\",\"\")\n",
    "res[0] = res[0].replace(\"[\",\"\")\n",
    "res[0] = res[0].replace(\"]\",\"\")\n",
    "out_list = res[0].split(\",\")\n",
    "out_df = pd.DataFrame({'output':out_list})\n",
    "out_df = out_df.apply(pd.to_numeric, errors='ignore')\n",
    "out_df.head()"
   ]
  },
  {
   "cell_type": "code",
   "execution_count": 22,
   "metadata": {
    "collapsed": true,
    "scrolled": true
   },
   "outputs": [],
   "source": [
    "# join input and output back in\n",
    "# view first rows\n",
    "\n",
    "df = df.drop(['input'],axis=1)\n",
    "df = df.drop(['output'],axis=1)\n",
    "collist = df.columns.values.tolist()\n",
    "df = df[collist].join(input_df).join(out_df)"
   ]
  },
  {
   "cell_type": "markdown",
   "metadata": {},
   "source": [
    "# Parse Historical File"
   ]
  },
  {
   "cell_type": "code",
   "execution_count": 23,
   "metadata": {
    "collapsed": true
   },
   "outputs": [],
   "source": [
    "# grab historical data\n",
    "\n",
    "import json\n",
    "# one line at a time in a list\n",
    "data_baseline = []\n",
    "for line in open(historical_file, 'r'):\n",
    "    data_baseline.append(json.loads(line))\n",
    "    \n",
    "import pandas as pd\n",
    "df_baseline = pd.read_json(json.dumps(data_baseline))\n",
    "\n",
    "from pandas.io.json import json_normalize\n",
    "input_df_baseline = json_normalize(df_baseline.input)\n",
    "\n",
    "s=\"\"\n",
    "for v in df_baseline.output.values:\n",
    "     s+=str(v) + \",\"\n",
    "res=[s]\n",
    "res[0] = res[0][:-1]\n",
    "res[0] = res[0].replace(\"{'churn_Y': \",\"\")\n",
    "res[0] = res[0].replace(\"}\",\"\")\n",
    "res[0] = res[0].replace(\"nan\",\"\")\n",
    "res[0] = res[0].replace(\"[\",\"\")\n",
    "res[0] = res[0].replace(\"]\",\"\")\n",
    "out_list_baseline = res[0].split(\",\")\n",
    "out_df_baseline = pd.DataFrame({'output':out_list_baseline})\n",
    "out_df_baseline = out_df_baseline.apply(pd.to_numeric, errors='ignore')\n",
    "\n",
    "df_baseline = df_baseline.drop(['input'],axis=1)\n",
    "df_baseline = df_baseline.drop(['output'],axis=1)\n",
    "collist = df_baseline.columns.values.tolist()\n",
    "df_baseline = df_baseline[collist].join(input_df_baseline).join(out_df_baseline)"
   ]
  },
  {
   "cell_type": "markdown",
   "metadata": {},
   "source": [
    "# Compare Log and Historical"
   ]
  },
  {
   "cell_type": "code",
   "execution_count": 24,
   "metadata": {
    "collapsed": true
   },
   "outputs": [],
   "source": [
    "# libraries for graphing\n",
    "\n",
    "import numpy as np\n",
    "import matplotlib.pyplot as plt\n",
    "from matplotlib.ticker import NullFormatter\n",
    "import matplotlib.dates as mdates\n",
    "%matplotlib inline\n",
    "from scipy.stats import kurtosis"
   ]
  },
  {
   "cell_type": "code",
   "execution_count": 25,
   "metadata": {
    "collapsed": true
   },
   "outputs": [],
   "source": [
    "# sort both dfs\n",
    "\n",
    "df = df.sort_values(by=['timeStamp'])\n",
    "df_baseline = df_baseline.sort_values(by=['timeStamp'])"
   ]
  },
  {
   "cell_type": "code",
   "execution_count": 26,
   "metadata": {},
   "outputs": [
    {
     "data": {
      "text/html": [
       "<div>\n",
       "<style>\n",
       "    .dataframe thead tr:only-child th {\n",
       "        text-align: right;\n",
       "    }\n",
       "\n",
       "    .dataframe thead th {\n",
       "        text-align: left;\n",
       "    }\n",
       "\n",
       "    .dataframe tbody tr th {\n",
       "        vertical-align: top;\n",
       "    }\n",
       "</style>\n",
       "<table border=\"1\" class=\"dataframe\">\n",
       "  <thead>\n",
       "    <tr style=\"text-align: right;\">\n",
       "      <th></th>\n",
       "      <th>httpResponse</th>\n",
       "      <th>requestId</th>\n",
       "      <th>timeStamp</th>\n",
       "      <th>timingMillis</th>\n",
       "      <th>data.consecmonths</th>\n",
       "      <th>data.dropperc</th>\n",
       "      <th>data.income</th>\n",
       "      <th>data.mins</th>\n",
       "      <th>output</th>\n",
       "    </tr>\n",
       "  </thead>\n",
       "  <tbody>\n",
       "    <tr>\n",
       "      <th>7926</th>\n",
       "      <td>200</td>\n",
       "      <td>5OB7X3CRN0M8SAJF</td>\n",
       "      <td>2016-01-01 05:29:46.099</td>\n",
       "      <td>0</td>\n",
       "      <td>20</td>\n",
       "      <td>0.0210</td>\n",
       "      <td>79.4</td>\n",
       "      <td>525</td>\n",
       "      <td>0.0007</td>\n",
       "    </tr>\n",
       "    <tr>\n",
       "      <th>7925</th>\n",
       "      <td>200</td>\n",
       "      <td>5OB7X3CRN0M8SAJF</td>\n",
       "      <td>2016-01-01 06:42:38.623</td>\n",
       "      <td>0</td>\n",
       "      <td>27</td>\n",
       "      <td>0.0135</td>\n",
       "      <td>108.1</td>\n",
       "      <td>445</td>\n",
       "      <td>0.0006</td>\n",
       "    </tr>\n",
       "    <tr>\n",
       "      <th>7924</th>\n",
       "      <td>200</td>\n",
       "      <td>5OB7X3CRN0M8SAJF</td>\n",
       "      <td>2016-01-01 07:52:49.891</td>\n",
       "      <td>0</td>\n",
       "      <td>20</td>\n",
       "      <td>0.0193</td>\n",
       "      <td>78.9</td>\n",
       "      <td>466</td>\n",
       "      <td>0.0002</td>\n",
       "    </tr>\n",
       "    <tr>\n",
       "      <th>7923</th>\n",
       "      <td>200</td>\n",
       "      <td>5OB7X3CRN0M8SAJF</td>\n",
       "      <td>2016-01-01 08:35:18.523</td>\n",
       "      <td>0</td>\n",
       "      <td>33</td>\n",
       "      <td>0.0098</td>\n",
       "      <td>72.2</td>\n",
       "      <td>512</td>\n",
       "      <td>0.0005</td>\n",
       "    </tr>\n",
       "    <tr>\n",
       "      <th>7922</th>\n",
       "      <td>200</td>\n",
       "      <td>5OB7X3CRN0M8SAJF</td>\n",
       "      <td>2016-01-01 09:36:04.824</td>\n",
       "      <td>0</td>\n",
       "      <td>21</td>\n",
       "      <td>0.0282</td>\n",
       "      <td>83.7</td>\n",
       "      <td>390</td>\n",
       "      <td>0.0001</td>\n",
       "    </tr>\n",
       "  </tbody>\n",
       "</table>\n",
       "</div>"
      ],
      "text/plain": [
       "      httpResponse         requestId               timeStamp  timingMillis  \\\n",
       "7926           200  5OB7X3CRN0M8SAJF 2016-01-01 05:29:46.099             0   \n",
       "7925           200  5OB7X3CRN0M8SAJF 2016-01-01 06:42:38.623             0   \n",
       "7924           200  5OB7X3CRN0M8SAJF 2016-01-01 07:52:49.891             0   \n",
       "7923           200  5OB7X3CRN0M8SAJF 2016-01-01 08:35:18.523             0   \n",
       "7922           200  5OB7X3CRN0M8SAJF 2016-01-01 09:36:04.824             0   \n",
       "\n",
       "      data.consecmonths  data.dropperc  data.income  data.mins  output  \n",
       "7926                 20         0.0210         79.4        525  0.0007  \n",
       "7925                 27         0.0135        108.1        445  0.0006  \n",
       "7924                 20         0.0193         78.9        466  0.0002  \n",
       "7923                 33         0.0098         72.2        512  0.0005  \n",
       "7922                 21         0.0282         83.7        390  0.0001  "
      ]
     },
     "execution_count": 26,
     "metadata": {},
     "output_type": "execute_result"
    }
   ],
   "source": [
    "df_baseline.head()"
   ]
  },
  {
   "cell_type": "code",
   "execution_count": 27,
   "metadata": {
    "collapsed": true
   },
   "outputs": [],
   "source": [
    "test=~df['data.mins'].isnull()"
   ]
  },
  {
   "cell_type": "code",
   "execution_count": 28,
   "metadata": {},
   "outputs": [
    {
     "data": {
      "text/plain": [
       "array([ 80.31717591, 159.57509084, 349.78396435, 507.0634228 ,\n",
       "       237.53808672, 264.76483146, 319.66661621, 427.51252861,\n",
       "       709.93884776, 226.97193572,  24.38515758, 250.61453964,\n",
       "       400.        ,  33.59512304, 252.8301178 , 225.13817107,\n",
       "       292.8114495 , 642.33732768, 482.93470206, 228.55085447,\n",
       "        49.96034064, 544.53173642, 212.2196607 , 177.59352199,\n",
       "       400.        , 131.96181411, 400.        , 401.        ,\n",
       "       402.        , 403.        , 404.        , 405.        ,\n",
       "       406.        , 407.        , 408.        , 409.        ,\n",
       "       410.        , 411.        , 412.        , 413.        ,\n",
       "       414.        , 415.        , 416.        , 417.        ,\n",
       "       418.        , 419.        , 420.        , 421.        ,\n",
       "       422.        , 234.        , 234.        , 234.        ,\n",
       "       234.        , 234.        , 234.        , 234.        ,\n",
       "       234.        , 234.        , 234.        , 234.        ,\n",
       "       234.        , 234.        , 234.        , 234.        ,\n",
       "       234.        , 234.        , 234.        , 234.        ,\n",
       "       234.        , 234.        , 234.        , 234.        ,\n",
       "       234.        , 234.        , 234.        , 234.        ,\n",
       "       234.        , 234.        , 234.        , 234.        ,\n",
       "       234.        , 234.        , 234.        , 234.        ,\n",
       "       234.        , 234.        , 234.        , 234.        ,\n",
       "       234.        , 234.        , 234.        , 234.        ,\n",
       "       234.        , 234.        , 234.        , 234.        ,\n",
       "       234.        , 234.        , 234.        , 234.        ,\n",
       "       234.        , 234.        , 234.        , 234.        ,\n",
       "       234.        , 234.        , 234.        , 234.        ,\n",
       "       234.        , 234.        , 234.        , 234.        ,\n",
       "       234.        , 234.        , 234.        , 234.        ,\n",
       "       234.        , 234.        , 234.        , 234.        ,\n",
       "       234.        , 234.        , 234.        , 234.        ,\n",
       "       234.        , 234.        , 234.        , 234.        ,\n",
       "       234.        , 234.        , 234.        , 234.        ,\n",
       "       234.        , 234.        , 234.        , 235.        ,\n",
       "       235.        , 235.        , 235.        , 235.        ,\n",
       "       235.        , 235.        , 235.        , 235.        ,\n",
       "       235.        , 235.        , 235.        , 235.        ,\n",
       "       235.        , 235.        , 235.        , 235.        ,\n",
       "       235.        , 235.        , 235.        , 235.        ,\n",
       "       235.        , 235.        , 235.        , 235.        ,\n",
       "       241.        , 242.        , 242.        , 242.        ,\n",
       "       242.        , 242.        , 242.        , 242.        ,\n",
       "       242.        , 242.        , 242.        , 242.        ,\n",
       "       242.        , 242.        , 242.        , 242.        ,\n",
       "       242.        , 242.        , 242.        , 242.        ,\n",
       "       242.        , 242.        , 242.        , 242.        ,\n",
       "       242.        , 242.        , 242.        , 242.        ,\n",
       "       242.        , 242.        , 242.        , 242.        ,\n",
       "       242.        , 242.        , 242.        , 242.        ,\n",
       "       242.        , 242.        , 242.        , 242.        ,\n",
       "       242.        , 242.        , 242.        , 242.        ,\n",
       "       242.        , 242.        , 242.        , 242.        ,\n",
       "       242.        , 242.        , 242.        , 242.        ,\n",
       "       242.        , 242.        , 242.        , 242.        ,\n",
       "       242.        , 242.        , 242.        , 292.55550236,\n",
       "       354.35497156,  42.19017266, 242.        ])"
      ]
     },
     "execution_count": 28,
     "metadata": {},
     "output_type": "execute_result"
    }
   ],
   "source": [
    "df[test]['data.mins'].values"
   ]
  },
  {
   "cell_type": "code",
   "execution_count": 29,
   "metadata": {
    "collapsed": true
   },
   "outputs": [],
   "source": [
    "# function to make a comparison graph\n",
    "\n",
    "def logplot(var, check_days_back):\n",
    "    # set data inputs\n",
    "    yhist = pd.DataFrame(df_baseline[var]).dropna().values\n",
    "    y_not_nan = ~df[var].isnull()\n",
    "    y = df[y_not_nan][var].values\n",
    "    x = mdates.date2num(df[y_not_nan]['timeStamp'])\n",
    "    numobs = pd.DataFrame(df[var]).shape[0]\n",
    "        \n",
    "    histymax = max(yhist)\n",
    "    histymin = min(yhist)\n",
    "    histysigma3 = np.std(yhist) * 3\n",
    "    histymean = np.mean(yhist)\n",
    "    histy999 = np.percentile(yhist, 99.9)\n",
    "    histy001 = np.percentile(yhist, 0.1)\n",
    "\n",
    "    yOOB = np.logical_or(y > histymax, y < histymin)\n",
    "    yWarn = np.logical_and(np.logical_or(y > histy999, y < histy001),~yOOB)\n",
    "    \n",
    "    # check for OOB values and set exit flag\n",
    "    check_date = max(df.timeStamp)-timedelta(check_days_back)\n",
    "    check_df = df[(df['timeStamp'] > check_date)]\n",
    "    check_max = max(check_df[var])\n",
    "    check_min = min(check_df[var])\n",
    "    exit_flag = False\n",
    "    if (check_max > histymax) or (check_min < histymin):\n",
    "        exit_flag = True\n",
    "    \n",
    "    # special sauce\n",
    "    bins = int(min(max(-1/10 * abs(abs(kurtosis(pd.DataFrame(df_baseline[var]).dropna().values)) - 3)**2\n",
    "                       + 20, 5),30))\n",
    " \n",
    "\n",
    "    # set limits\n",
    "    ymax = max(histymax,max(y))\n",
    "    ymin = min(histymin,min(y))\n",
    "    binwidth = (ymax - ymin)/bins\n",
    "    #ylim_up = (int(ymax/binwidth) + 1) * binwidth\n",
    "    #ylim_lw = (int(ymin/binwidth) - 1) * binwidth\n",
    "    ylim_up = ymax + binwidth\n",
    "    ylim_lw = ymin - binwidth\n",
    "    # no labels (used for trend line)\n",
    "    nullfmt = NullFormatter()         \n",
    "\n",
    "    # definitions for the axes\n",
    "    left, width = 0.1, 0.65\n",
    "    bottom, height = 0.1, 0.65\n",
    "    bottom_h = left_h = left + width + 0.02\n",
    "    rect_plt = [left, bottom, width, height]\n",
    "    rect_histy = [left_h-.975, bottom, 0.3, height]\n",
    "\n",
    "    # start with a rectangular Figure\n",
    "    plt.figure(1, figsize=(8, 5))\n",
    "\n",
    "    # set shape\n",
    "    axHisty = plt.axes(rect_histy)\n",
    "    ax = plt.axes(rect_plt)\n",
    "\n",
    "    # trend line\n",
    "    ax.yaxis.set_major_formatter(nullfmt)\n",
    "    ax.set_ylim((ylim_lw, ylim_up))\n",
    "    ax.xaxis.set_major_formatter(mdates.DateFormatter('%Y-%m-%d %H:%M:%S'))\n",
    "    ax.axes.get_yaxis().set_ticks([])\n",
    "    #ax.plot(x, y[~yOOB], 'o-')\n",
    "\n",
    "\n",
    "    #ax.hold(True)\n",
    "\n",
    "    # draw some lines behind the scatter plots (using zorder)\n",
    "    ax.plot(x, y)\n",
    "\n",
    "    # scatter valid (not warning) points in blue (c='b')\n",
    "    ax.scatter(x[~yOOB], y[~yOOB])\n",
    "\n",
    "    # scatter warning points in red (c='r')\n",
    "    if np.any(y[yWarn]):\n",
    "        plt.scatter(x[yWarn], y[yWarn], label='warning', c='m')\n",
    "    if np.any(y[yOOB]):\n",
    "        plt.scatter(x[yOOB], y[yOOB], label='out of bounds', c='r')\n",
    "\n",
    "\n",
    "    #min/max lines\n",
    "    ax.axhline(y=histymax, color='r', linestyle='-', linewidth = 1, label=\"historical max/min\")\n",
    "    ax.axhline(y=histymin, color='r', linestyle='-', linewidth = 1)\n",
    "    tooclose = (histymax - histymin)/30\n",
    "    if histy999 < histymax - tooclose and histy999 < histymax:\n",
    "        ax.axhline(y=histy999, color='m', linestyle='--', linewidth = 1, label = \"1/1000 event\")\n",
    "        if histy001 > histymin + tooclose and histy001 > histymin:\n",
    "            ax.axhline(y=histy001, color='m', linestyle='--', linewidth = 1)\n",
    "        elif histy001 > histymin + tooclose and histy001 > histymin:\n",
    "            ax.axhline(y=histy001, color='m', linestyle='--', linewidth = 1, label = \"1/1000 event\")\n",
    "\n",
    "    # histogram\n",
    "    #bins = np.arange(ylim_lw, ylim_up + binwidth, binwidth)\n",
    "    (n, binsout, patches) = axHisty.hist(yhist, bins=bins, orientation='horizontal')\n",
    "    axHisty.set_ylim(ylim_lw,ylim_up)\n",
    "    axHisty.set_xlim(-max(n)/20,max(n)+max(n)/20)\n",
    "\n",
    "    plt.title(\"Trend of '\" + var + \"'\\nFor Selected Model Runs\\nCompared to Baseline\", {'fontsize': 16})\n",
    "    plt.xticks(rotation=90)\n",
    "    lgd = plt.legend(bbox_to_anchor=(1.05, 1), loc=2, borderaxespad=0.)    \n",
    "    plt.savefig('/mnt/results/' + var + '.png', format='png', bbox_extra_artists=(lgd,), bbox_inches='tight')\n",
    "    plt.show()\n",
    "    plt.clf()\n",
    "    return(exit_flag)"
   ]
  },
  {
   "cell_type": "code",
   "execution_count": 30,
   "metadata": {
    "collapsed": true
   },
   "outputs": [],
   "source": [
    "# lists to keep track of vars for error statement and if we should exit at all\n",
    "oob_vars = list()\n",
    "exit_status = list()"
   ]
  },
  {
   "cell_type": "code",
   "execution_count": 31,
   "metadata": {},
   "outputs": [
    {
     "data": {
      "image/png": "[encoded data removed]",
      "text/plain": [
       "<Figure size 576x360 with 2 Axes>"
      ]
     },
     "metadata": {},
     "output_type": "display_data"
    },
    {
     "data": {
      "text/plain": [
       "<Figure size 432x288 with 0 Axes>"
      ]
     },
     "metadata": {},
     "output_type": "display_data"
    }
   ],
   "source": [
    "check = logplot('output', check_days_back)\n",
    "exit_status.append(check)\n",
    "if exit_status[len(exit_status)-1]:\n",
    "    oob_vars.append('output')"
   ]
  },
  {
   "cell_type": "code",
   "execution_count": 32,
   "metadata": {},
   "outputs": [
    {
     "data": {
      "image/png": "[encoded data removed]",
      "text/plain": [
       "<Figure size 576x360 with 2 Axes>"
      ]
     },
     "metadata": {},
     "output_type": "display_data"
    },
    {
     "data": {
      "text/plain": [
       "<Figure size 432x288 with 0 Axes>"
      ]
     },
     "metadata": {},
     "output_type": "display_data"
    }
   ],
   "source": [
    "check = logplot('data.mins', check_days_back)\n",
    "exit_status.append(check)\n",
    "if exit_status[len(exit_status)-1]:\n",
    "    oob_vars.append('data.mins')"
   ]
  },
  {
   "cell_type": "code",
   "execution_count": 33,
   "metadata": {},
   "outputs": [
    {
     "data": {
      "image/png": "[encoded data removed]",
      "text/plain": [
       "<Figure size 576x360 with 2 Axes>"
      ]
     },
     "metadata": {},
     "output_type": "display_data"
    },
    {
     "data": {
      "text/plain": [
       "<Figure size 432x288 with 0 Axes>"
      ]
     },
     "metadata": {},
     "output_type": "display_data"
    }
   ],
   "source": [
    "check = logplot('data.dropperc', check_days_back)\n",
    "exit_status.append(check)\n",
    "if exit_status[len(exit_status)-1]:\n",
    "    oob_vars.append('data.dropperc')"
   ]
  },
  {
   "cell_type": "code",
   "execution_count": 34,
   "metadata": {},
   "outputs": [
    {
     "data": {
      "image/png": "[encoded data removed]",
      "text/plain": [
       "<Figure size 576x360 with 2 Axes>"
      ]
     },
     "metadata": {},
     "output_type": "display_data"
    },
    {
     "data": {
      "text/plain": [
       "<Figure size 432x288 with 0 Axes>"
      ]
     },
     "metadata": {},
     "output_type": "display_data"
    }
   ],
   "source": [
    "check = logplot('data.income', check_days_back)\n",
    "exit_status.append(check)\n",
    "if exit_status[len(exit_status)-1]:\n",
    "    oob_vars.append('data.income')"
   ]
  },
  {
   "cell_type": "code",
   "execution_count": 35,
   "metadata": {},
   "outputs": [
    {
     "data": {
      "image/png": "[encoded data removed]",
      "text/plain": [
       "<Figure size 576x360 with 2 Axes>"
      ]
     },
     "metadata": {},
     "output_type": "display_data"
    },
    {
     "data": {
      "text/plain": [
       "<Figure size 432x288 with 0 Axes>"
      ]
     },
     "metadata": {},
     "output_type": "display_data"
    }
   ],
   "source": [
    "check = logplot('data.consecmonths', check_days_back)\n",
    "exit_status.append(check)\n",
    "if exit_status[len(exit_status)-1]:\n",
    "    oob_vars.append('data.consecmonths')"
   ]
  },
  {
   "cell_type": "code",
   "execution_count": 32,
   "metadata": {
    "collapsed": true
   },
   "outputs": [],
   "source": [
    "var_list = \"\"\n",
    "i=1\n",
    "for var in oob_vars:\n",
    "    if i == 1:\n",
    "        var_list = var_list + var\n",
    "    else:\n",
    "        var_list = var_list + \", \" + var\n",
    "    i += 1"
   ]
  },
  {
   "cell_type": "code",
   "execution_count": null,
   "metadata": {
    "collapsed": true
   },
   "outputs": [],
   "source": [
    "oob_vars"
   ]
  },
  {
   "cell_type": "code",
   "execution_count": null,
   "metadata": {
    "collapsed": true
   },
   "outputs": [],
   "source": [
    "exit_status"
   ]
  },
  {
   "cell_type": "code",
   "execution_count": 33,
   "metadata": {
    "collapsed": true
   },
   "outputs": [],
   "source": [
    "if any(exit_status):\n",
    "    sys.exit(\"Out of bounds values in: \" + var_list)"
   ]
  }
 ],
 "metadata": {
  "kernelspec": {
   "display_name": "Python 3",
   "language": "python",
   "name": "python3"
  },
  "language_info": {
   "codemirror_mode": {
    "name": "ipython",
    "version": 3
   },
   "file_extension": ".py",
   "mimetype": "text/x-python",
   "name": "python",
   "nbconvert_exporter": "python",
   "pygments_lexer": "ipython3",
   "version": "3.6.2"
  }
 },
 "nbformat": 4,
 "nbformat_minor": 2
}
