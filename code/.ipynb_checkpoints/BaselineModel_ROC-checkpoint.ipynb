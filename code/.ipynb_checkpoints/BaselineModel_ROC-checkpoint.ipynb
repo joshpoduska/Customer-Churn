{
 "cells": [
  {
   "cell_type": "code",
   "execution_count": 7,
   "metadata": {
    "collapsed": true
   },
   "outputs": [],
   "source": [
    "import sklearn as sk\n",
    "import numpy as np\n",
    "import pandas as pd"
   ]
  },
  {
   "cell_type": "code",
   "execution_count": 8,
   "metadata": {},
   "outputs": [
    {
     "name": "stdout",
     "output_type": "stream",
     "text": [
      "8004  rows\n"
     ]
    },
    {
     "data": {
      "text/html": [
       "<div>\n",
       "<style>\n",
       "    .dataframe thead tr:only-child th {\n",
       "        text-align: right;\n",
       "    }\n",
       "\n",
       "    .dataframe thead th {\n",
       "        text-align: left;\n",
       "    }\n",
       "\n",
       "    .dataframe tbody tr th {\n",
       "        vertical-align: top;\n",
       "    }\n",
       "</style>\n",
       "<table border=\"1\" class=\"dataframe\">\n",
       "  <thead>\n",
       "    <tr style=\"text-align: right;\">\n",
       "      <th></th>\n",
       "      <th>consecmonths</th>\n",
       "      <th>KPI_DeviceSat</th>\n",
       "      <th>KPI_NetworkQual</th>\n",
       "      <th>churn</th>\n",
       "    </tr>\n",
       "    <tr>\n",
       "      <th>custid</th>\n",
       "      <th></th>\n",
       "      <th></th>\n",
       "      <th></th>\n",
       "      <th></th>\n",
       "    </tr>\n",
       "  </thead>\n",
       "  <tbody>\n",
       "    <tr>\n",
       "      <th>844336</th>\n",
       "      <td>28</td>\n",
       "      <td>0.016035</td>\n",
       "      <td>0.760355</td>\n",
       "      <td>N</td>\n",
       "    </tr>\n",
       "    <tr>\n",
       "      <th>146041</th>\n",
       "      <td>33</td>\n",
       "      <td>0.017055</td>\n",
       "      <td>0.526147</td>\n",
       "      <td>N</td>\n",
       "    </tr>\n",
       "    <tr>\n",
       "      <th>847745</th>\n",
       "      <td>41</td>\n",
       "      <td>0.008896</td>\n",
       "      <td>0.798811</td>\n",
       "      <td>N</td>\n",
       "    </tr>\n",
       "    <tr>\n",
       "      <th>285565</th>\n",
       "      <td>32</td>\n",
       "      <td>0.016460</td>\n",
       "      <td>0.631075</td>\n",
       "      <td>N</td>\n",
       "    </tr>\n",
       "    <tr>\n",
       "      <th>754611</th>\n",
       "      <td>4</td>\n",
       "      <td>0.020711</td>\n",
       "      <td>0.726428</td>\n",
       "      <td>N</td>\n",
       "    </tr>\n",
       "  </tbody>\n",
       "</table>\n",
       "</div>"
      ],
      "text/plain": [
       "        consecmonths  KPI_DeviceSat  KPI_NetworkQual churn\n",
       "custid                                                    \n",
       "844336            28       0.016035         0.760355     N\n",
       "146041            33       0.017055         0.526147     N\n",
       "847745            41       0.008896         0.798811     N\n",
       "285565            32       0.016460         0.631075     N\n",
       "754611             4       0.020711         0.726428     N"
      ]
     },
     "execution_count": 8,
     "metadata": {},
     "output_type": "execute_result"
    }
   ],
   "source": [
    "\n",
    "# baseline data\n",
    "df_baseline = pd.read_csv('/mnt/data/churndata.csv', header=0, index_col=0)\n",
    "create_dummies = pd.get_dummies(df_baseline['churn'],prefix='churn', drop_first=True)  \n",
    "df_baseline=pd.concat([df_baseline,create_dummies],axis=1)\n",
    "df_baseline = df_baseline.drop(['churn'], axis=1)\n",
    "baseline_cols = ['consecmonths', 'KPI_DeviceSat', 'KPI_NetworkQual']\n",
    "y_baseline = df_baseline['churn_Y'].values\n",
    "X_baseline = df_baseline[baseline_cols].values\n",
    "\n",
    "\n",
    "#Get Baseline Model\n",
    "import pickle\n",
    "baseline_model = pickle.load(open('/mnt/output/baseline.pkl', 'rb'))\n",
    "tprs_baseline = []\n",
    "aucs_baseline = []\n",
    "accs_baseline = []\n",
    "mean_fpr_baseline = np.linspace(0, 1, 100)\n",
    " \n",
    "probas_ = baseline_model.predict_proba(X_baseline)\n",
    "preds_ = baseline_model.predict(X_baseline)\n",
    "fpr_baseline, tpr_baseline, thresholds_baseline = metrics.roc_curve(y_baseline, probas_[:, 1])\n",
    "tprs_baseline.append(np.interp(mean_fpr_baseline, fpr_baseline, tpr_baseline))\n",
    "tprs[-1][0] = 0.0\n",
    "roc_auc_baseline = metrics.auc(fpr_baseline, tpr_baseline)\n",
    "aucs_baseline.append(roc_auc_baseline)\n",
    "accuracy_baseline = metrics.accuracy_score(y_baseline, preds_)\n",
    "accs_baseline.append(accuracy_baseline)\n",
    "acc_baseline = np.mean(accs_baseline)\n",
    "auc_baseline = np.mean(aucs_baseline)\n",
    "\n",
    "# Make Plot\n",
    "plt.plot([0, 1], [0, 1], linestyle='--', lw=2, color='r', alpha=.8)\n",
    "plt.plot(fpr_baseline,tpr_baseline,color='green', label= 'Baseline: AUC = %0.3f Acc = %0.3f' % (auc_baseline, acc_baseline))\n",
    "\n",
    " \n",
    "plt.xlim([-0.05, 1.05])\n",
    "plt.ylim([-0.05, 1.05])\n",
    "plt.xlabel('False Positive Rate')\n",
    "plt.ylabel('True Positive Rate')\n",
    "plt.title(\"5-Fold CV ROC Curve and Metrics: Loss = \" + loss_ + \", N_Estimators = \" + str(n_estimators_))\n",
    "plt.legend(loc=\"lower right\")\n",
    " \n",
    "#write out resutls\n",
    "plt.savefig('/mnt/output/AUC_ACC_' + loss_ + '_' + str(n_estimators_) + '.png', format='png')\n",
    " \n",
    "import json\n",
    " \n",
    "with open('dominostats.json', 'w') as f:\n",
    "    f.write(json.dumps({\"Acc\": round(mean_acc, 3), \"AUC\": round(mean_auc, 3)}))\n"
   ]
  },
  {
   "cell_type": "code",
   "execution_count": 9,
   "metadata": {
    "collapsed": true
   },
   "outputs": [],
   "source": [
    "df = df.sample(3000)"
   ]
  },
  {
   "cell_type": "code",
   "execution_count": 10,
   "metadata": {
    "collapsed": true
   },
   "outputs": [],
   "source": [
    "create_dummies = pd.get_dummies(df['churn'],prefix='churn', drop_first=True)  \n",
    "df=pd.concat([df,create_dummies],axis=1)\n",
    "df = df.drop(['churn'], axis=1)"
   ]
  },
  {
   "cell_type": "code",
   "execution_count": 12,
   "metadata": {},
   "outputs": [
    {
     "data": {
      "text/plain": [
       "LogisticRegression(C=1.0, class_weight=None, dual=False, fit_intercept=True,\n",
       "          intercept_scaling=1, max_iter=100, multi_class='ovr', n_jobs=1,\n",
       "          penalty='l2', random_state=None, solver='liblinear', tol=0.0001,\n",
       "          verbose=0, warm_start=False)"
      ]
     },
     "execution_count": 12,
     "metadata": {},
     "output_type": "execute_result"
    }
   ],
   "source": [
    "from sklearn.linear_model import LogisticRegression\n",
    "\n",
    "cols = list(df.columns)\n",
    "cols.remove('churn_Y')\n",
    "y = df['churn_Y']\n",
    "X = df[cols]\n",
    "\n",
    "logReg = LogisticRegression()\n",
    "logReg.fit(X, y)"
   ]
  },
  {
   "cell_type": "code",
   "execution_count": 13,
   "metadata": {
    "collapsed": true
   },
   "outputs": [],
   "source": [
    "import pickle \n",
    "\n",
    "pickle.dump(logReg, open('/mnt/output/baseline.pkl', 'wb'))"
   ]
  }
 ],
 "metadata": {
  "kernelspec": {
   "display_name": "Python 3",
   "language": "python",
   "name": "python3"
  },
  "language_info": {
   "codemirror_mode": {
    "name": "ipython",
    "version": 3
   },
   "file_extension": ".py",
   "mimetype": "text/x-python",
   "name": "python",
   "nbconvert_exporter": "python",
   "pygments_lexer": "ipython3",
   "version": "3.6.2"
  }
 },
 "nbformat": 4,
 "nbformat_minor": 2
}
