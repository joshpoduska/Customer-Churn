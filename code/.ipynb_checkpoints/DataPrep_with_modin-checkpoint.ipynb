{
 "cells": [
  {
   "cell_type": "markdown",
   "metadata": {},
   "source": [
    "### Setup"
   ]
  },
  {
   "cell_type": "code",
   "execution_count": 1,
   "metadata": {},
   "outputs": [
    {
     "name": "stderr",
     "output_type": "stream",
     "text": [
      "/usr/local/anaconda/lib/python3.6/importlib/_bootstrap.py:219: RuntimeWarning: numpy.dtype size changed, may indicate binary incompatibility. Expected 96, got 88\n",
      "  return f(*args, **kwds)\n"
     ]
    }
   ],
   "source": [
    "import sklearn as sk\n",
    "import numpy as np\n",
    "import matplotlib\n",
    "import matplotlib.pyplot as plt\n",
    "%matplotlib inline\n",
    "import pandas as pd\n",
    "import seaborn as sns\n",
    "import warnings\n",
    "import time\n",
    "warnings.filterwarnings('ignore')"
   ]
  },
  {
   "cell_type": "markdown",
   "metadata": {},
   "source": [
    "### Import Data"
   ]
  },
  {
   "cell_type": "code",
   "execution_count": 2,
   "metadata": {},
   "outputs": [
    {
     "name": "stdout",
     "output_type": "stream",
     "text": [
      "8004  rows\n"
     ]
    },
    {
     "data": {
      "text/html": [
       "<div>\n",
       "<style scoped>\n",
       "    .dataframe tbody tr th:only-of-type {\n",
       "        vertical-align: middle;\n",
       "    }\n",
       "\n",
       "    .dataframe tbody tr th {\n",
       "        vertical-align: top;\n",
       "    }\n",
       "\n",
       "    .dataframe thead th {\n",
       "        text-align: right;\n",
       "    }\n",
       "</style>\n",
       "<table border=\"1\" class=\"dataframe\">\n",
       "  <thead>\n",
       "    <tr style=\"text-align: right;\">\n",
       "      <th></th>\n",
       "      <th>AreaCode</th>\n",
       "      <th>age</th>\n",
       "      <th>gender</th>\n",
       "      <th>kids</th>\n",
       "      <th>education</th>\n",
       "      <th>income</th>\n",
       "      <th>dataplan</th>\n",
       "      <th>basebill</th>\n",
       "      <th>bill</th>\n",
       "      <th>mins</th>\n",
       "      <th>...</th>\n",
       "      <th>Storage</th>\n",
       "      <th>Touchscreen</th>\n",
       "      <th>Color</th>\n",
       "      <th>KPI_DeviceSat</th>\n",
       "      <th>KPI_NetworkQual</th>\n",
       "      <th>servcalls</th>\n",
       "      <th>drops</th>\n",
       "      <th>dropperc</th>\n",
       "      <th>CompPromo60</th>\n",
       "      <th>churn</th>\n",
       "    </tr>\n",
       "    <tr>\n",
       "      <th>custid</th>\n",
       "      <th></th>\n",
       "      <th></th>\n",
       "      <th></th>\n",
       "      <th></th>\n",
       "      <th></th>\n",
       "      <th></th>\n",
       "      <th></th>\n",
       "      <th></th>\n",
       "      <th></th>\n",
       "      <th></th>\n",
       "      <th></th>\n",
       "      <th></th>\n",
       "      <th></th>\n",
       "      <th></th>\n",
       "      <th></th>\n",
       "      <th></th>\n",
       "      <th></th>\n",
       "      <th></th>\n",
       "      <th></th>\n",
       "      <th></th>\n",
       "      <th></th>\n",
       "    </tr>\n",
       "  </thead>\n",
       "  <tbody>\n",
       "    <tr>\n",
       "      <th>844336</th>\n",
       "      <td>612</td>\n",
       "      <td>45</td>\n",
       "      <td>F</td>\n",
       "      <td>2</td>\n",
       "      <td>11</td>\n",
       "      <td>89.2</td>\n",
       "      <td>4096</td>\n",
       "      <td>61.81</td>\n",
       "      <td>71.44</td>\n",
       "      <td>550</td>\n",
       "      <td>...</td>\n",
       "      <td>Y</td>\n",
       "      <td>Y</td>\n",
       "      <td>silver</td>\n",
       "      <td>0.016035</td>\n",
       "      <td>0.760355</td>\n",
       "      <td>0</td>\n",
       "      <td>9</td>\n",
       "      <td>0.016364</td>\n",
       "      <td>NoPromo</td>\n",
       "      <td>N</td>\n",
       "    </tr>\n",
       "    <tr>\n",
       "      <th>146041</th>\n",
       "      <td>317</td>\n",
       "      <td>43</td>\n",
       "      <td>F</td>\n",
       "      <td>1</td>\n",
       "      <td>9</td>\n",
       "      <td>54.2</td>\n",
       "      <td>2048</td>\n",
       "      <td>110.27</td>\n",
       "      <td>124.23</td>\n",
       "      <td>545</td>\n",
       "      <td>...</td>\n",
       "      <td>N</td>\n",
       "      <td>Y</td>\n",
       "      <td>black</td>\n",
       "      <td>0.017055</td>\n",
       "      <td>0.526147</td>\n",
       "      <td>0</td>\n",
       "      <td>10</td>\n",
       "      <td>0.018349</td>\n",
       "      <td>NoPromo</td>\n",
       "      <td>N</td>\n",
       "    </tr>\n",
       "    <tr>\n",
       "      <th>847745</th>\n",
       "      <td>278</td>\n",
       "      <td>41</td>\n",
       "      <td>F</td>\n",
       "      <td>1</td>\n",
       "      <td>12</td>\n",
       "      <td>55.3</td>\n",
       "      <td>2048</td>\n",
       "      <td>104.22</td>\n",
       "      <td>112.42</td>\n",
       "      <td>378</td>\n",
       "      <td>...</td>\n",
       "      <td>Y</td>\n",
       "      <td>Y</td>\n",
       "      <td>black</td>\n",
       "      <td>0.008896</td>\n",
       "      <td>0.798811</td>\n",
       "      <td>0</td>\n",
       "      <td>7</td>\n",
       "      <td>0.018519</td>\n",
       "      <td>Promo</td>\n",
       "      <td>N</td>\n",
       "    </tr>\n",
       "    <tr>\n",
       "      <th>285565</th>\n",
       "      <td>408</td>\n",
       "      <td>31</td>\n",
       "      <td>M</td>\n",
       "      <td>0</td>\n",
       "      <td>10</td>\n",
       "      <td>66.8</td>\n",
       "      <td>4096</td>\n",
       "      <td>95.69</td>\n",
       "      <td>105.12</td>\n",
       "      <td>552</td>\n",
       "      <td>...</td>\n",
       "      <td>Y</td>\n",
       "      <td>Y</td>\n",
       "      <td>black</td>\n",
       "      <td>0.016460</td>\n",
       "      <td>0.631075</td>\n",
       "      <td>0</td>\n",
       "      <td>8</td>\n",
       "      <td>0.014493</td>\n",
       "      <td>NoPromo</td>\n",
       "      <td>N</td>\n",
       "    </tr>\n",
       "    <tr>\n",
       "      <th>754611</th>\n",
       "      <td>305</td>\n",
       "      <td>43</td>\n",
       "      <td>F</td>\n",
       "      <td>0</td>\n",
       "      <td>8</td>\n",
       "      <td>87.2</td>\n",
       "      <td>2048</td>\n",
       "      <td>95.40</td>\n",
       "      <td>109.48</td>\n",
       "      <td>577</td>\n",
       "      <td>...</td>\n",
       "      <td>Y</td>\n",
       "      <td>Y</td>\n",
       "      <td>white</td>\n",
       "      <td>0.020711</td>\n",
       "      <td>0.726428</td>\n",
       "      <td>0</td>\n",
       "      <td>7</td>\n",
       "      <td>0.012132</td>\n",
       "      <td>NoPromo</td>\n",
       "      <td>N</td>\n",
       "    </tr>\n",
       "  </tbody>\n",
       "</table>\n",
       "<p>5 rows × 34 columns</p>\n",
       "</div>"
      ],
      "text/plain": [
       "        AreaCode  age gender  kids  education  income  dataplan  basebill  \\\n",
       "custid                                                                      \n",
       "844336       612   45      F     2         11    89.2      4096     61.81   \n",
       "146041       317   43      F     1          9    54.2      2048    110.27   \n",
       "847745       278   41      F     1         12    55.3      2048    104.22   \n",
       "285565       408   31      M     0         10    66.8      4096     95.69   \n",
       "754611       305   43      F     0          8    87.2      2048     95.40   \n",
       "\n",
       "          bill  mins  ...   Storage  Touchscreen   Color  KPI_DeviceSat  \\\n",
       "custid                ...                                                 \n",
       "844336   71.44   550  ...         Y            Y  silver       0.016035   \n",
       "146041  124.23   545  ...         N            Y   black       0.017055   \n",
       "847745  112.42   378  ...         Y            Y   black       0.008896   \n",
       "285565  105.12   552  ...         Y            Y   black       0.016460   \n",
       "754611  109.48   577  ...         Y            Y   white       0.020711   \n",
       "\n",
       "        KPI_NetworkQual  servcalls  drops  dropperc CompPromo60 churn  \n",
       "custid                                                                 \n",
       "844336         0.760355          0      9  0.016364     NoPromo     N  \n",
       "146041         0.526147          0     10  0.018349     NoPromo     N  \n",
       "847745         0.798811          0      7  0.018519       Promo     N  \n",
       "285565         0.631075          0      8  0.014493     NoPromo     N  \n",
       "754611         0.726428          0      7  0.012132     NoPromo     N  \n",
       "\n",
       "[5 rows x 34 columns]"
      ]
     },
     "execution_count": 2,
     "metadata": {},
     "output_type": "execute_result"
    }
   ],
   "source": [
    "df = pd.read_csv('/mnt/data/churndata.csv', header=0, index_col=0)\n",
    "print(len(df), \" rows\")\n",
    "df.head()"
   ]
  },
  {
   "cell_type": "code",
   "execution_count": null,
   "metadata": {},
   "outputs": [],
   "source": [
    "# # try without --user to see the error that made me try it with --user\n",
    "# # OK, now it is working without --user. Ugh! So inconsistant.\n",
    "# !pip install modin"
   ]
  },
  {
   "cell_type": "code",
   "execution_count": null,
   "metadata": {},
   "outputs": [],
   "source": [
    "# # using an environment with the locaiton </home/ubuntu/.local/bin> added to PATH based on a warning\n",
    "# # received when installing modin\n",
    "# !echo $PATH"
   ]
  },
  {
   "cell_type": "code",
   "execution_count": null,
   "metadata": {},
   "outputs": [],
   "source": [
    "# # checking pandas verssion\n",
    "# # should be 0.23.4 as shown above in the modin install notes. is not. odd.\n",
    "# pd.__version__"
   ]
  },
  {
   "cell_type": "code",
   "execution_count": 9,
   "metadata": {
    "scrolled": true
   },
   "outputs": [
    {
     "name": "stderr",
     "output_type": "stream",
     "text": [
      "WARNING: Not updating worker name since `setproctitle` is not installed. Install this with `pip install setproctitle` (or ray[debug]) to enable monitoring of worker processes.\n",
      "Process STDOUT and STDERR is being redirected to /tmp/ray/session_2019-02-06_21-26-28_170/logs.\n",
      "Waiting for redis server at 127.0.0.1:49206 to respond...\n",
      "Waiting for redis server at 127.0.0.1:56627 to respond...\n",
      "Starting Redis shard with 10.0 GB max memory.\n",
      "WARNING: The object store is using /tmp instead of /dev/shm because /dev/shm has only 67108864 bytes available. This may slow down performance! You may be able to free up space by deleting files in /dev/shm or terminating any running plasma_store_server processes. If you are inside a Docker container, you may need to pass an argument with the flag '--shm-size' to 'docker run'.\n",
      "Starting the Plasma object store with 20.0 GB memory using /tmp.\n"
     ]
    }
   ],
   "source": [
    "# this returns <No module named 'modin'>\n",
    "# that makes me think the --user option is the problem\n",
    "# I pip installed modin locally without --user and got past this error (but found a new pandas version mismatch error)\n",
    "\n",
    "# ok, now that modin is installing without the --user option, I get a new error saying <No module named 'ray'>\n",
    "# I tried pip install ray but it was already there\n",
    "# fun times!\n",
    "import modin.pandas as pd"
   ]
  },
  {
   "cell_type": "code",
   "execution_count": 10,
   "metadata": {},
   "outputs": [],
   "source": [
    "# # # seems a separate install of Ray is not needed as installing moding does this\n",
    "# # # I am surprised that ray is a python package. I thought it was more of a compute platform\n",
    "# # !pip install ray\n",
    "# !pip install -U ray"
   ]
  },
  {
   "cell_type": "code",
   "execution_count": 11,
   "metadata": {},
   "outputs": [],
   "source": [
    "# import ray"
   ]
  },
  {
   "cell_type": "code",
   "execution_count": 12,
   "metadata": {},
   "outputs": [],
   "source": [
    "# # troubleshoot <No module named 'ray'>\n",
    "# # this was helpful - https://github.com/ray-project/ray/issues/1358\n",
    "# # ray may be installed on a different version of python\n",
    "# !which python"
   ]
  },
  {
   "cell_type": "code",
   "execution_count": 13,
   "metadata": {},
   "outputs": [],
   "source": [
    "# !ps aux | grep ray"
   ]
  },
  {
   "cell_type": "markdown",
   "metadata": {},
   "source": [
    "### Build a Data Quality Report"
   ]
  },
  {
   "cell_type": "code",
   "execution_count": 14,
   "metadata": {},
   "outputs": [],
   "source": [
    "# input a dataframe\n",
    "# returns a dataframe with helpful statistics on the dataframe and its columns\n",
    "# modified for py3\n",
    "\n",
    "def dqr(d):\n",
    "    #data types\n",
    "    dqr_data_types = pd.DataFrame(d.dtypes, columns=['Data Type'])\n",
    "\n",
    "    #percent missing\n",
    "    dqr_percent_missing = pd.DataFrame(100*(d.isnull().sum()/len(d)).round(3), columns=['% Missing'])\n",
    "\n",
    "    #unique values\n",
    "    dqr_unique_values = pd.DataFrame(columns=['Unique Values'])\n",
    "    for c in d:\n",
    "        dqr_unique_values.loc[c]=d[c].nunique()\n",
    "        \n",
    "    #mode\n",
    "    dqr_mode = pd.DataFrame(d.mode().loc[0])\n",
    "    dqr_mode.rename(columns={ dqr_mode.columns[0]: \"Mode\" }, inplace=True)\n",
    "    \n",
    "    #count mode\n",
    "    dqr_count_mode = pd.DataFrame(columns=['Count Mode'])\n",
    "    for c in d:\n",
    "        dqr_count_mode.loc[c]=d[c][d[c] == dqr_mode.loc[[c]].iloc[0]['Mode']].count()  \n",
    "\n",
    "    #% mode\n",
    "    dqr_percent_mode = pd.DataFrame(100*(dqr_count_mode['Count Mode'].values/len(d)), \\\n",
    "        index=dqr_count_mode.index, columns=['% Mode'])\n",
    "            \n",
    "    #distribution stats    \n",
    "    i=1\n",
    "    for c in d:\n",
    "        if i==1:\n",
    "            dqr_stats = pd.DataFrame(d[c].describe())\n",
    "        if i>1:\n",
    "            dqr_stats = dqr_stats.join(pd.DataFrame(d[c].describe()))\n",
    "        i=i+1\n",
    "    dqr_stats=dqr_stats.transpose().drop('count', axis=1)\n",
    "\n",
    "    print(\"# of records: \", len(d))\n",
    "    print(\"# of columns: \", len(d.columns))\n",
    "    \n",
    "    # don't include count mode\n",
    "    # .join(dqr_count_mode[['Count Mode']].astype(int))\n",
    "    \n",
    "    return dqr_data_types.join(dqr_unique_values[['Unique Values']].astype(int)). \\\n",
    "        join(dqr_percent_missing).join(dqr_mode).join(dqr_percent_mode).join(dqr_stats)\n"
   ]
  },
  {
   "cell_type": "code",
   "execution_count": 15,
   "metadata": {},
   "outputs": [
    {
     "ename": "ValueError",
     "evalue": "bins must have non-zero length",
     "output_type": "error",
     "traceback": [
      "\u001b[0;31m---------------------------------------------------------------------------\u001b[0m",
      "\u001b[0;31mValueError\u001b[0m                                Traceback (most recent call last)",
      "\u001b[0;32m<ipython-input-15-e35e44669207>\u001b[0m in \u001b[0;36m<module>\u001b[0;34m()\u001b[0m\n\u001b[1;32m      1\u001b[0m \u001b[0;31m#%%timeit\u001b[0m\u001b[0;34m\u001b[0m\u001b[0;34m\u001b[0m\u001b[0m\n\u001b[0;32m----> 2\u001b[0;31m \u001b[0mreport\u001b[0m \u001b[0;34m=\u001b[0m \u001b[0mdqr\u001b[0m\u001b[0;34m(\u001b[0m\u001b[0mdf\u001b[0m\u001b[0;34m)\u001b[0m\u001b[0;34m\u001b[0m\u001b[0m\n\u001b[0m\u001b[1;32m      3\u001b[0m \u001b[0mreport\u001b[0m\u001b[0;34m\u001b[0m\u001b[0m\n",
      "\u001b[0;32m<ipython-input-14-2f1cfdc48cac>\u001b[0m in \u001b[0;36mdqr\u001b[0;34m(d)\u001b[0m\n\u001b[1;32m     13\u001b[0m     \u001b[0mdqr_unique_values\u001b[0m \u001b[0;34m=\u001b[0m \u001b[0mpd\u001b[0m\u001b[0;34m.\u001b[0m\u001b[0mDataFrame\u001b[0m\u001b[0;34m(\u001b[0m\u001b[0mcolumns\u001b[0m\u001b[0;34m=\u001b[0m\u001b[0;34m[\u001b[0m\u001b[0;34m'Unique Values'\u001b[0m\u001b[0;34m]\u001b[0m\u001b[0;34m)\u001b[0m\u001b[0;34m\u001b[0m\u001b[0m\n\u001b[1;32m     14\u001b[0m     \u001b[0;32mfor\u001b[0m \u001b[0mc\u001b[0m \u001b[0;32min\u001b[0m \u001b[0md\u001b[0m\u001b[0;34m:\u001b[0m\u001b[0;34m\u001b[0m\u001b[0m\n\u001b[0;32m---> 15\u001b[0;31m         \u001b[0mdqr_unique_values\u001b[0m\u001b[0;34m.\u001b[0m\u001b[0mloc\u001b[0m\u001b[0;34m[\u001b[0m\u001b[0mc\u001b[0m\u001b[0;34m]\u001b[0m\u001b[0;34m=\u001b[0m\u001b[0md\u001b[0m\u001b[0;34m[\u001b[0m\u001b[0mc\u001b[0m\u001b[0;34m]\u001b[0m\u001b[0;34m.\u001b[0m\u001b[0mnunique\u001b[0m\u001b[0;34m(\u001b[0m\u001b[0;34m)\u001b[0m\u001b[0;34m\u001b[0m\u001b[0m\n\u001b[0m\u001b[1;32m     16\u001b[0m \u001b[0;34m\u001b[0m\u001b[0m\n\u001b[1;32m     17\u001b[0m     \u001b[0;31m#mode\u001b[0m\u001b[0;34m\u001b[0m\u001b[0;34m\u001b[0m\u001b[0m\n",
      "\u001b[0;32m/usr/local/anaconda/lib/python3.6/site-packages/modin/pandas/indexing.py\u001b[0m in \u001b[0;36m__setitem__\u001b[0;34m(self, key, item)\u001b[0m\n\u001b[1;32m    254\u001b[0m         \u001b[0;32melse\u001b[0m\u001b[0;34m:\u001b[0m\u001b[0;34m\u001b[0m\u001b[0m\n\u001b[1;32m    255\u001b[0m             \u001b[0mrow_lookup\u001b[0m\u001b[0;34m,\u001b[0m \u001b[0mcol_lookup\u001b[0m \u001b[0;34m=\u001b[0m \u001b[0mself\u001b[0m\u001b[0;34m.\u001b[0m\u001b[0m_compute_lookup\u001b[0m\u001b[0;34m(\u001b[0m\u001b[0mrow_loc\u001b[0m\u001b[0;34m,\u001b[0m \u001b[0mcol_loc\u001b[0m\u001b[0;34m)\u001b[0m\u001b[0;34m\u001b[0m\u001b[0m\n\u001b[0;32m--> 256\u001b[0;31m             \u001b[0msuper\u001b[0m\u001b[0;34m(\u001b[0m\u001b[0m_LocIndexer\u001b[0m\u001b[0;34m,\u001b[0m \u001b[0mself\u001b[0m\u001b[0;34m)\u001b[0m\u001b[0;34m.\u001b[0m\u001b[0m__setitem__\u001b[0m\u001b[0;34m(\u001b[0m\u001b[0mrow_lookup\u001b[0m\u001b[0;34m,\u001b[0m \u001b[0mcol_lookup\u001b[0m\u001b[0;34m,\u001b[0m \u001b[0mitem\u001b[0m\u001b[0;34m)\u001b[0m\u001b[0;34m\u001b[0m\u001b[0m\n\u001b[0m\u001b[1;32m    257\u001b[0m \u001b[0;34m\u001b[0m\u001b[0m\n\u001b[1;32m    258\u001b[0m     \u001b[0;32mdef\u001b[0m \u001b[0m_handle_enlargement\u001b[0m\u001b[0;34m(\u001b[0m\u001b[0mself\u001b[0m\u001b[0;34m,\u001b[0m \u001b[0mrow_loc\u001b[0m\u001b[0;34m,\u001b[0m \u001b[0mcol_loc\u001b[0m\u001b[0;34m)\u001b[0m\u001b[0;34m:\u001b[0m\u001b[0;34m\u001b[0m\u001b[0m\n",
      "\u001b[0;32m/usr/local/anaconda/lib/python3.6/site-packages/modin/pandas/indexing.py\u001b[0m in \u001b[0;36m__setitem__\u001b[0;34m(self, row_lookup, col_lookup, item)\u001b[0m\n\u001b[1;32m    178\u001b[0m         \u001b[0mto_shape\u001b[0m \u001b[0;34m=\u001b[0m \u001b[0;34m(\u001b[0m\u001b[0mlen\u001b[0m\u001b[0;34m(\u001b[0m\u001b[0mrow_lookup\u001b[0m\u001b[0;34m)\u001b[0m\u001b[0;34m,\u001b[0m \u001b[0mlen\u001b[0m\u001b[0;34m(\u001b[0m\u001b[0mcol_lookup\u001b[0m\u001b[0;34m)\u001b[0m\u001b[0;34m)\u001b[0m\u001b[0;34m\u001b[0m\u001b[0m\n\u001b[1;32m    179\u001b[0m         \u001b[0mitem\u001b[0m \u001b[0;34m=\u001b[0m \u001b[0mself\u001b[0m\u001b[0;34m.\u001b[0m\u001b[0m_broadcast_item\u001b[0m\u001b[0;34m(\u001b[0m\u001b[0mrow_lookup\u001b[0m\u001b[0;34m,\u001b[0m \u001b[0mcol_lookup\u001b[0m\u001b[0;34m,\u001b[0m \u001b[0mitem\u001b[0m\u001b[0;34m,\u001b[0m \u001b[0mto_shape\u001b[0m\u001b[0;34m)\u001b[0m\u001b[0;34m\u001b[0m\u001b[0m\n\u001b[0;32m--> 180\u001b[0;31m         \u001b[0mself\u001b[0m\u001b[0;34m.\u001b[0m\u001b[0m_write_items\u001b[0m\u001b[0;34m(\u001b[0m\u001b[0mrow_lookup\u001b[0m\u001b[0;34m,\u001b[0m \u001b[0mcol_lookup\u001b[0m\u001b[0;34m,\u001b[0m \u001b[0mitem\u001b[0m\u001b[0;34m)\u001b[0m\u001b[0;34m\u001b[0m\u001b[0m\n\u001b[0m\u001b[1;32m    181\u001b[0m \u001b[0;34m\u001b[0m\u001b[0m\n\u001b[1;32m    182\u001b[0m     \u001b[0;32mdef\u001b[0m \u001b[0m_broadcast_item\u001b[0m\u001b[0;34m(\u001b[0m\u001b[0mself\u001b[0m\u001b[0;34m,\u001b[0m \u001b[0mrow_lookup\u001b[0m\u001b[0;34m,\u001b[0m \u001b[0mcol_lookup\u001b[0m\u001b[0;34m,\u001b[0m \u001b[0mitem\u001b[0m\u001b[0;34m,\u001b[0m \u001b[0mto_shape\u001b[0m\u001b[0;34m)\u001b[0m\u001b[0;34m:\u001b[0m\u001b[0;34m\u001b[0m\u001b[0m\n",
      "\u001b[0;32m/usr/local/anaconda/lib/python3.6/site-packages/modin/pandas/indexing.py\u001b[0m in \u001b[0;36m_write_items\u001b[0;34m(self, row_lookup, col_lookup, item)\u001b[0m\n\u001b[1;32m    221\u001b[0m         \u001b[0mrow_numeric_idx\u001b[0m \u001b[0;34m=\u001b[0m \u001b[0mself\u001b[0m\u001b[0;34m.\u001b[0m\u001b[0mqc\u001b[0m\u001b[0;34m.\u001b[0m\u001b[0mglobal_idx_to_numeric_idx\u001b[0m\u001b[0;34m(\u001b[0m\u001b[0;34m\"row\"\u001b[0m\u001b[0;34m,\u001b[0m \u001b[0mrow_lookup\u001b[0m\u001b[0;34m)\u001b[0m\u001b[0;34m\u001b[0m\u001b[0m\n\u001b[1;32m    222\u001b[0m         \u001b[0mcol_numeric_idx\u001b[0m \u001b[0;34m=\u001b[0m \u001b[0mself\u001b[0m\u001b[0;34m.\u001b[0m\u001b[0mqc\u001b[0m\u001b[0;34m.\u001b[0m\u001b[0mglobal_idx_to_numeric_idx\u001b[0m\u001b[0;34m(\u001b[0m\u001b[0;34m\"col\"\u001b[0m\u001b[0;34m,\u001b[0m \u001b[0mcol_lookup\u001b[0m\u001b[0;34m)\u001b[0m\u001b[0;34m\u001b[0m\u001b[0m\n\u001b[0;32m--> 223\u001b[0;31m         \u001b[0mself\u001b[0m\u001b[0;34m.\u001b[0m\u001b[0mqc\u001b[0m\u001b[0;34m.\u001b[0m\u001b[0mwrite_items\u001b[0m\u001b[0;34m(\u001b[0m\u001b[0mrow_numeric_idx\u001b[0m\u001b[0;34m,\u001b[0m \u001b[0mcol_numeric_idx\u001b[0m\u001b[0;34m,\u001b[0m \u001b[0mitem\u001b[0m\u001b[0;34m)\u001b[0m\u001b[0;34m\u001b[0m\u001b[0m\n\u001b[0m\u001b[1;32m    224\u001b[0m \u001b[0;34m\u001b[0m\u001b[0m\n\u001b[1;32m    225\u001b[0m \u001b[0;34m\u001b[0m\u001b[0m\n",
      "\u001b[0;32m/usr/local/anaconda/lib/python3.6/site-packages/modin/data_management/query_compiler/pandas_query_compiler.py\u001b[0m in \u001b[0;36mwrite_items\u001b[0;34m(self, row_numeric_index, col_numeric_index, broadcasted_items)\u001b[0m\n\u001b[1;32m   2683\u001b[0m             \u001b[0mcol_indices\u001b[0m\u001b[0;34m=\u001b[0m\u001b[0mcol_numeric_index\u001b[0m\u001b[0;34m,\u001b[0m\u001b[0;34m\u001b[0m\u001b[0m\n\u001b[1;32m   2684\u001b[0m             \u001b[0mmutate\u001b[0m\u001b[0;34m=\u001b[0m\u001b[0;32mTrue\u001b[0m\u001b[0;34m,\u001b[0m\u001b[0;34m\u001b[0m\u001b[0m\n\u001b[0;32m-> 2685\u001b[0;31m             \u001b[0mitem_to_distribute\u001b[0m\u001b[0;34m=\u001b[0m\u001b[0mbroadcasted_items\u001b[0m\u001b[0;34m,\u001b[0m\u001b[0;34m\u001b[0m\u001b[0m\n\u001b[0m\u001b[1;32m   2686\u001b[0m         )\n\u001b[1;32m   2687\u001b[0m         \u001b[0mself\u001b[0m\u001b[0;34m.\u001b[0m\u001b[0mdata\u001b[0m \u001b[0;34m=\u001b[0m \u001b[0mmutated_blk_partitions\u001b[0m\u001b[0;34m\u001b[0m\u001b[0m\n",
      "\u001b[0;32m/usr/local/anaconda/lib/python3.6/site-packages/modin/engines/base/block_partitions.py\u001b[0m in \u001b[0;36mapply_func_to_indices_both_axis\u001b[0;34m(self, func, row_indices, col_indices, lazy, keep_remaining, mutate, item_to_distribute)\u001b[0m\n\u001b[1;32m    951\u001b[0m         \"\"\"\n\u001b[1;32m    952\u001b[0m         \u001b[0;32mif\u001b[0m \u001b[0mkeep_remaining\u001b[0m\u001b[0;34m:\u001b[0m\u001b[0;34m\u001b[0m\u001b[0m\n\u001b[0;32m--> 953\u001b[0;31m             \u001b[0mrow_partitions_list\u001b[0m \u001b[0;34m=\u001b[0m \u001b[0mself\u001b[0m\u001b[0;34m.\u001b[0m\u001b[0m_get_dict_of_block_index\u001b[0m\u001b[0;34m(\u001b[0m\u001b[0;36m1\u001b[0m\u001b[0;34m,\u001b[0m \u001b[0mrow_indices\u001b[0m\u001b[0;34m)\u001b[0m\u001b[0;34m.\u001b[0m\u001b[0mitems\u001b[0m\u001b[0;34m(\u001b[0m\u001b[0;34m)\u001b[0m\u001b[0;34m\u001b[0m\u001b[0m\n\u001b[0m\u001b[1;32m    954\u001b[0m             \u001b[0mcol_partitions_list\u001b[0m \u001b[0;34m=\u001b[0m \u001b[0mself\u001b[0m\u001b[0;34m.\u001b[0m\u001b[0m_get_dict_of_block_index\u001b[0m\u001b[0;34m(\u001b[0m\u001b[0;36m0\u001b[0m\u001b[0;34m,\u001b[0m \u001b[0mcol_indices\u001b[0m\u001b[0;34m)\u001b[0m\u001b[0;34m.\u001b[0m\u001b[0mitems\u001b[0m\u001b[0;34m(\u001b[0m\u001b[0;34m)\u001b[0m\u001b[0;34m\u001b[0m\u001b[0m\n\u001b[1;32m    955\u001b[0m         \u001b[0;32melse\u001b[0m\u001b[0;34m:\u001b[0m\u001b[0;34m\u001b[0m\u001b[0m\n",
      "\u001b[0;32m/usr/local/anaconda/lib/python3.6/site-packages/modin/engines/base/block_partitions.py\u001b[0m in \u001b[0;36m_get_dict_of_block_index\u001b[0;34m(self, axis, indices, ordered)\u001b[0m\n\u001b[1;32m    665\u001b[0m         \u001b[0;31m# travel to each partition once.\u001b[0m\u001b[0;34m\u001b[0m\u001b[0;34m\u001b[0m\u001b[0m\n\u001b[1;32m    666\u001b[0m         all_partitions_and_idx = [\n\u001b[0;32m--> 667\u001b[0;31m             \u001b[0mself\u001b[0m\u001b[0;34m.\u001b[0m\u001b[0m_get_blocks_containing_index\u001b[0m\u001b[0;34m(\u001b[0m\u001b[0maxis\u001b[0m\u001b[0;34m,\u001b[0m \u001b[0mi\u001b[0m\u001b[0;34m)\u001b[0m \u001b[0;32mfor\u001b[0m \u001b[0mi\u001b[0m \u001b[0;32min\u001b[0m \u001b[0mindices\u001b[0m\u001b[0;34m\u001b[0m\u001b[0m\n\u001b[0m\u001b[1;32m    668\u001b[0m         ]\n\u001b[1;32m    669\u001b[0m \u001b[0;34m\u001b[0m\u001b[0m\n",
      "\u001b[0;32m/usr/local/anaconda/lib/python3.6/site-packages/modin/engines/base/block_partitions.py\u001b[0m in \u001b[0;36m<listcomp>\u001b[0;34m(.0)\u001b[0m\n\u001b[1;32m    665\u001b[0m         \u001b[0;31m# travel to each partition once.\u001b[0m\u001b[0;34m\u001b[0m\u001b[0;34m\u001b[0m\u001b[0m\n\u001b[1;32m    666\u001b[0m         all_partitions_and_idx = [\n\u001b[0;32m--> 667\u001b[0;31m             \u001b[0mself\u001b[0m\u001b[0;34m.\u001b[0m\u001b[0m_get_blocks_containing_index\u001b[0m\u001b[0;34m(\u001b[0m\u001b[0maxis\u001b[0m\u001b[0;34m,\u001b[0m \u001b[0mi\u001b[0m\u001b[0;34m)\u001b[0m \u001b[0;32mfor\u001b[0m \u001b[0mi\u001b[0m \u001b[0;32min\u001b[0m \u001b[0mindices\u001b[0m\u001b[0;34m\u001b[0m\u001b[0m\n\u001b[0m\u001b[1;32m    668\u001b[0m         ]\n\u001b[1;32m    669\u001b[0m \u001b[0;34m\u001b[0m\u001b[0m\n",
      "\u001b[0;32m/usr/local/anaconda/lib/python3.6/site-packages/modin/engines/base/block_partitions.py\u001b[0m in \u001b[0;36m_get_blocks_containing_index\u001b[0;34m(self, axis, index)\u001b[0m\n\u001b[1;32m    637\u001b[0m             \u001b[0mErrorMessage\u001b[0m\u001b[0;34m.\u001b[0m\u001b[0mcatch_bugs_and_request_email\u001b[0m\u001b[0;34m(\u001b[0m\u001b[0mindex\u001b[0m \u001b[0;34m>\u001b[0m \u001b[0msum\u001b[0m\u001b[0;34m(\u001b[0m\u001b[0mself\u001b[0m\u001b[0;34m.\u001b[0m\u001b[0mblock_lengths\u001b[0m\u001b[0;34m)\u001b[0m\u001b[0;34m)\u001b[0m\u001b[0;34m\u001b[0m\u001b[0m\n\u001b[1;32m    638\u001b[0m             \u001b[0mcumulative_row_lengths\u001b[0m \u001b[0;34m=\u001b[0m \u001b[0mnp\u001b[0m\u001b[0;34m.\u001b[0m\u001b[0marray\u001b[0m\u001b[0;34m(\u001b[0m\u001b[0mself\u001b[0m\u001b[0;34m.\u001b[0m\u001b[0mblock_lengths\u001b[0m\u001b[0;34m)\u001b[0m\u001b[0;34m.\u001b[0m\u001b[0mcumsum\u001b[0m\u001b[0;34m(\u001b[0m\u001b[0;34m)\u001b[0m\u001b[0;34m\u001b[0m\u001b[0m\n\u001b[0;32m--> 639\u001b[0;31m             \u001b[0mblock_idx\u001b[0m \u001b[0;34m=\u001b[0m \u001b[0mint\u001b[0m\u001b[0;34m(\u001b[0m\u001b[0mnp\u001b[0m\u001b[0;34m.\u001b[0m\u001b[0mdigitize\u001b[0m\u001b[0;34m(\u001b[0m\u001b[0mindex\u001b[0m\u001b[0;34m,\u001b[0m \u001b[0mcumulative_row_lengths\u001b[0m\u001b[0;34m)\u001b[0m\u001b[0;34m)\u001b[0m\u001b[0;34m\u001b[0m\u001b[0m\n\u001b[0m\u001b[1;32m    640\u001b[0m             \u001b[0;31m# See note above about internal index\u001b[0m\u001b[0;34m\u001b[0m\u001b[0;34m\u001b[0m\u001b[0m\n\u001b[1;32m    641\u001b[0m             internal_idx = (\n",
      "\u001b[0;31mValueError\u001b[0m: bins must have non-zero length"
     ]
    }
   ],
   "source": [
    "#%%timeit\n",
    "report = dqr(df)\n",
    "report\n",
    "\n",
    "# fails on the line with loc and nunique. \n",
    "# list of supported pandas features https://modin.readthedocs.io/en/latest/pandas_supported.html"
   ]
  },
  {
   "cell_type": "markdown",
   "metadata": {},
   "source": [
    "### Change Col Types as Needed"
   ]
  },
  {
   "cell_type": "code",
   "execution_count": 16,
   "metadata": {},
   "outputs": [
    {
     "ename": "ValueError",
     "evalue": "bins must have non-zero length",
     "output_type": "error",
     "traceback": [
      "\u001b[0;31m---------------------------------------------------------------------------\u001b[0m",
      "\u001b[0;31mValueError\u001b[0m                                Traceback (most recent call last)",
      "\u001b[0;32m<ipython-input-16-b50094440856>\u001b[0m in \u001b[0;36m<module>\u001b[0;34m()\u001b[0m\n\u001b[1;32m      3\u001b[0m \u001b[0;34m\u001b[0m\u001b[0m\n\u001b[1;32m      4\u001b[0m \u001b[0;31m# reset the report dataframe\u001b[0m\u001b[0;34m\u001b[0m\u001b[0;34m\u001b[0m\u001b[0m\n\u001b[0;32m----> 5\u001b[0;31m \u001b[0mreport\u001b[0m \u001b[0;34m=\u001b[0m \u001b[0mdqr\u001b[0m\u001b[0;34m(\u001b[0m\u001b[0mdf\u001b[0m\u001b[0;34m)\u001b[0m\u001b[0;34m\u001b[0m\u001b[0m\n\u001b[0m",
      "\u001b[0;32m<ipython-input-14-2f1cfdc48cac>\u001b[0m in \u001b[0;36mdqr\u001b[0;34m(d)\u001b[0m\n\u001b[1;32m     13\u001b[0m     \u001b[0mdqr_unique_values\u001b[0m \u001b[0;34m=\u001b[0m \u001b[0mpd\u001b[0m\u001b[0;34m.\u001b[0m\u001b[0mDataFrame\u001b[0m\u001b[0;34m(\u001b[0m\u001b[0mcolumns\u001b[0m\u001b[0;34m=\u001b[0m\u001b[0;34m[\u001b[0m\u001b[0;34m'Unique Values'\u001b[0m\u001b[0;34m]\u001b[0m\u001b[0;34m)\u001b[0m\u001b[0;34m\u001b[0m\u001b[0m\n\u001b[1;32m     14\u001b[0m     \u001b[0;32mfor\u001b[0m \u001b[0mc\u001b[0m \u001b[0;32min\u001b[0m \u001b[0md\u001b[0m\u001b[0;34m:\u001b[0m\u001b[0;34m\u001b[0m\u001b[0m\n\u001b[0;32m---> 15\u001b[0;31m         \u001b[0mdqr_unique_values\u001b[0m\u001b[0;34m.\u001b[0m\u001b[0mloc\u001b[0m\u001b[0;34m[\u001b[0m\u001b[0mc\u001b[0m\u001b[0;34m]\u001b[0m\u001b[0;34m=\u001b[0m\u001b[0md\u001b[0m\u001b[0;34m[\u001b[0m\u001b[0mc\u001b[0m\u001b[0;34m]\u001b[0m\u001b[0;34m.\u001b[0m\u001b[0mnunique\u001b[0m\u001b[0;34m(\u001b[0m\u001b[0;34m)\u001b[0m\u001b[0;34m\u001b[0m\u001b[0m\n\u001b[0m\u001b[1;32m     16\u001b[0m \u001b[0;34m\u001b[0m\u001b[0m\n\u001b[1;32m     17\u001b[0m     \u001b[0;31m#mode\u001b[0m\u001b[0;34m\u001b[0m\u001b[0;34m\u001b[0m\u001b[0m\n",
      "\u001b[0;32m/usr/local/anaconda/lib/python3.6/site-packages/modin/pandas/indexing.py\u001b[0m in \u001b[0;36m__setitem__\u001b[0;34m(self, key, item)\u001b[0m\n\u001b[1;32m    254\u001b[0m         \u001b[0;32melse\u001b[0m\u001b[0;34m:\u001b[0m\u001b[0;34m\u001b[0m\u001b[0m\n\u001b[1;32m    255\u001b[0m             \u001b[0mrow_lookup\u001b[0m\u001b[0;34m,\u001b[0m \u001b[0mcol_lookup\u001b[0m \u001b[0;34m=\u001b[0m \u001b[0mself\u001b[0m\u001b[0;34m.\u001b[0m\u001b[0m_compute_lookup\u001b[0m\u001b[0;34m(\u001b[0m\u001b[0mrow_loc\u001b[0m\u001b[0;34m,\u001b[0m \u001b[0mcol_loc\u001b[0m\u001b[0;34m)\u001b[0m\u001b[0;34m\u001b[0m\u001b[0m\n\u001b[0;32m--> 256\u001b[0;31m             \u001b[0msuper\u001b[0m\u001b[0;34m(\u001b[0m\u001b[0m_LocIndexer\u001b[0m\u001b[0;34m,\u001b[0m \u001b[0mself\u001b[0m\u001b[0;34m)\u001b[0m\u001b[0;34m.\u001b[0m\u001b[0m__setitem__\u001b[0m\u001b[0;34m(\u001b[0m\u001b[0mrow_lookup\u001b[0m\u001b[0;34m,\u001b[0m \u001b[0mcol_lookup\u001b[0m\u001b[0;34m,\u001b[0m \u001b[0mitem\u001b[0m\u001b[0;34m)\u001b[0m\u001b[0;34m\u001b[0m\u001b[0m\n\u001b[0m\u001b[1;32m    257\u001b[0m \u001b[0;34m\u001b[0m\u001b[0m\n\u001b[1;32m    258\u001b[0m     \u001b[0;32mdef\u001b[0m \u001b[0m_handle_enlargement\u001b[0m\u001b[0;34m(\u001b[0m\u001b[0mself\u001b[0m\u001b[0;34m,\u001b[0m \u001b[0mrow_loc\u001b[0m\u001b[0;34m,\u001b[0m \u001b[0mcol_loc\u001b[0m\u001b[0;34m)\u001b[0m\u001b[0;34m:\u001b[0m\u001b[0;34m\u001b[0m\u001b[0m\n",
      "\u001b[0;32m/usr/local/anaconda/lib/python3.6/site-packages/modin/pandas/indexing.py\u001b[0m in \u001b[0;36m__setitem__\u001b[0;34m(self, row_lookup, col_lookup, item)\u001b[0m\n\u001b[1;32m    178\u001b[0m         \u001b[0mto_shape\u001b[0m \u001b[0;34m=\u001b[0m \u001b[0;34m(\u001b[0m\u001b[0mlen\u001b[0m\u001b[0;34m(\u001b[0m\u001b[0mrow_lookup\u001b[0m\u001b[0;34m)\u001b[0m\u001b[0;34m,\u001b[0m \u001b[0mlen\u001b[0m\u001b[0;34m(\u001b[0m\u001b[0mcol_lookup\u001b[0m\u001b[0;34m)\u001b[0m\u001b[0;34m)\u001b[0m\u001b[0;34m\u001b[0m\u001b[0m\n\u001b[1;32m    179\u001b[0m         \u001b[0mitem\u001b[0m \u001b[0;34m=\u001b[0m \u001b[0mself\u001b[0m\u001b[0;34m.\u001b[0m\u001b[0m_broadcast_item\u001b[0m\u001b[0;34m(\u001b[0m\u001b[0mrow_lookup\u001b[0m\u001b[0;34m,\u001b[0m \u001b[0mcol_lookup\u001b[0m\u001b[0;34m,\u001b[0m \u001b[0mitem\u001b[0m\u001b[0;34m,\u001b[0m \u001b[0mto_shape\u001b[0m\u001b[0;34m)\u001b[0m\u001b[0;34m\u001b[0m\u001b[0m\n\u001b[0;32m--> 180\u001b[0;31m         \u001b[0mself\u001b[0m\u001b[0;34m.\u001b[0m\u001b[0m_write_items\u001b[0m\u001b[0;34m(\u001b[0m\u001b[0mrow_lookup\u001b[0m\u001b[0;34m,\u001b[0m \u001b[0mcol_lookup\u001b[0m\u001b[0;34m,\u001b[0m \u001b[0mitem\u001b[0m\u001b[0;34m)\u001b[0m\u001b[0;34m\u001b[0m\u001b[0m\n\u001b[0m\u001b[1;32m    181\u001b[0m \u001b[0;34m\u001b[0m\u001b[0m\n\u001b[1;32m    182\u001b[0m     \u001b[0;32mdef\u001b[0m \u001b[0m_broadcast_item\u001b[0m\u001b[0;34m(\u001b[0m\u001b[0mself\u001b[0m\u001b[0;34m,\u001b[0m \u001b[0mrow_lookup\u001b[0m\u001b[0;34m,\u001b[0m \u001b[0mcol_lookup\u001b[0m\u001b[0;34m,\u001b[0m \u001b[0mitem\u001b[0m\u001b[0;34m,\u001b[0m \u001b[0mto_shape\u001b[0m\u001b[0;34m)\u001b[0m\u001b[0;34m:\u001b[0m\u001b[0;34m\u001b[0m\u001b[0m\n",
      "\u001b[0;32m/usr/local/anaconda/lib/python3.6/site-packages/modin/pandas/indexing.py\u001b[0m in \u001b[0;36m_write_items\u001b[0;34m(self, row_lookup, col_lookup, item)\u001b[0m\n\u001b[1;32m    221\u001b[0m         \u001b[0mrow_numeric_idx\u001b[0m \u001b[0;34m=\u001b[0m \u001b[0mself\u001b[0m\u001b[0;34m.\u001b[0m\u001b[0mqc\u001b[0m\u001b[0;34m.\u001b[0m\u001b[0mglobal_idx_to_numeric_idx\u001b[0m\u001b[0;34m(\u001b[0m\u001b[0;34m\"row\"\u001b[0m\u001b[0;34m,\u001b[0m \u001b[0mrow_lookup\u001b[0m\u001b[0;34m)\u001b[0m\u001b[0;34m\u001b[0m\u001b[0m\n\u001b[1;32m    222\u001b[0m         \u001b[0mcol_numeric_idx\u001b[0m \u001b[0;34m=\u001b[0m \u001b[0mself\u001b[0m\u001b[0;34m.\u001b[0m\u001b[0mqc\u001b[0m\u001b[0;34m.\u001b[0m\u001b[0mglobal_idx_to_numeric_idx\u001b[0m\u001b[0;34m(\u001b[0m\u001b[0;34m\"col\"\u001b[0m\u001b[0;34m,\u001b[0m \u001b[0mcol_lookup\u001b[0m\u001b[0;34m)\u001b[0m\u001b[0;34m\u001b[0m\u001b[0m\n\u001b[0;32m--> 223\u001b[0;31m         \u001b[0mself\u001b[0m\u001b[0;34m.\u001b[0m\u001b[0mqc\u001b[0m\u001b[0;34m.\u001b[0m\u001b[0mwrite_items\u001b[0m\u001b[0;34m(\u001b[0m\u001b[0mrow_numeric_idx\u001b[0m\u001b[0;34m,\u001b[0m \u001b[0mcol_numeric_idx\u001b[0m\u001b[0;34m,\u001b[0m \u001b[0mitem\u001b[0m\u001b[0;34m)\u001b[0m\u001b[0;34m\u001b[0m\u001b[0m\n\u001b[0m\u001b[1;32m    224\u001b[0m \u001b[0;34m\u001b[0m\u001b[0m\n\u001b[1;32m    225\u001b[0m \u001b[0;34m\u001b[0m\u001b[0m\n",
      "\u001b[0;32m/usr/local/anaconda/lib/python3.6/site-packages/modin/data_management/query_compiler/pandas_query_compiler.py\u001b[0m in \u001b[0;36mwrite_items\u001b[0;34m(self, row_numeric_index, col_numeric_index, broadcasted_items)\u001b[0m\n\u001b[1;32m   2683\u001b[0m             \u001b[0mcol_indices\u001b[0m\u001b[0;34m=\u001b[0m\u001b[0mcol_numeric_index\u001b[0m\u001b[0;34m,\u001b[0m\u001b[0;34m\u001b[0m\u001b[0m\n\u001b[1;32m   2684\u001b[0m             \u001b[0mmutate\u001b[0m\u001b[0;34m=\u001b[0m\u001b[0;32mTrue\u001b[0m\u001b[0;34m,\u001b[0m\u001b[0;34m\u001b[0m\u001b[0m\n\u001b[0;32m-> 2685\u001b[0;31m             \u001b[0mitem_to_distribute\u001b[0m\u001b[0;34m=\u001b[0m\u001b[0mbroadcasted_items\u001b[0m\u001b[0;34m,\u001b[0m\u001b[0;34m\u001b[0m\u001b[0m\n\u001b[0m\u001b[1;32m   2686\u001b[0m         )\n\u001b[1;32m   2687\u001b[0m         \u001b[0mself\u001b[0m\u001b[0;34m.\u001b[0m\u001b[0mdata\u001b[0m \u001b[0;34m=\u001b[0m \u001b[0mmutated_blk_partitions\u001b[0m\u001b[0;34m\u001b[0m\u001b[0m\n",
      "\u001b[0;32m/usr/local/anaconda/lib/python3.6/site-packages/modin/engines/base/block_partitions.py\u001b[0m in \u001b[0;36mapply_func_to_indices_both_axis\u001b[0;34m(self, func, row_indices, col_indices, lazy, keep_remaining, mutate, item_to_distribute)\u001b[0m\n\u001b[1;32m    951\u001b[0m         \"\"\"\n\u001b[1;32m    952\u001b[0m         \u001b[0;32mif\u001b[0m \u001b[0mkeep_remaining\u001b[0m\u001b[0;34m:\u001b[0m\u001b[0;34m\u001b[0m\u001b[0m\n\u001b[0;32m--> 953\u001b[0;31m             \u001b[0mrow_partitions_list\u001b[0m \u001b[0;34m=\u001b[0m \u001b[0mself\u001b[0m\u001b[0;34m.\u001b[0m\u001b[0m_get_dict_of_block_index\u001b[0m\u001b[0;34m(\u001b[0m\u001b[0;36m1\u001b[0m\u001b[0;34m,\u001b[0m \u001b[0mrow_indices\u001b[0m\u001b[0;34m)\u001b[0m\u001b[0;34m.\u001b[0m\u001b[0mitems\u001b[0m\u001b[0;34m(\u001b[0m\u001b[0;34m)\u001b[0m\u001b[0;34m\u001b[0m\u001b[0m\n\u001b[0m\u001b[1;32m    954\u001b[0m             \u001b[0mcol_partitions_list\u001b[0m \u001b[0;34m=\u001b[0m \u001b[0mself\u001b[0m\u001b[0;34m.\u001b[0m\u001b[0m_get_dict_of_block_index\u001b[0m\u001b[0;34m(\u001b[0m\u001b[0;36m0\u001b[0m\u001b[0;34m,\u001b[0m \u001b[0mcol_indices\u001b[0m\u001b[0;34m)\u001b[0m\u001b[0;34m.\u001b[0m\u001b[0mitems\u001b[0m\u001b[0;34m(\u001b[0m\u001b[0;34m)\u001b[0m\u001b[0;34m\u001b[0m\u001b[0m\n\u001b[1;32m    955\u001b[0m         \u001b[0;32melse\u001b[0m\u001b[0;34m:\u001b[0m\u001b[0;34m\u001b[0m\u001b[0m\n",
      "\u001b[0;32m/usr/local/anaconda/lib/python3.6/site-packages/modin/engines/base/block_partitions.py\u001b[0m in \u001b[0;36m_get_dict_of_block_index\u001b[0;34m(self, axis, indices, ordered)\u001b[0m\n\u001b[1;32m    665\u001b[0m         \u001b[0;31m# travel to each partition once.\u001b[0m\u001b[0;34m\u001b[0m\u001b[0;34m\u001b[0m\u001b[0m\n\u001b[1;32m    666\u001b[0m         all_partitions_and_idx = [\n\u001b[0;32m--> 667\u001b[0;31m             \u001b[0mself\u001b[0m\u001b[0;34m.\u001b[0m\u001b[0m_get_blocks_containing_index\u001b[0m\u001b[0;34m(\u001b[0m\u001b[0maxis\u001b[0m\u001b[0;34m,\u001b[0m \u001b[0mi\u001b[0m\u001b[0;34m)\u001b[0m \u001b[0;32mfor\u001b[0m \u001b[0mi\u001b[0m \u001b[0;32min\u001b[0m \u001b[0mindices\u001b[0m\u001b[0;34m\u001b[0m\u001b[0m\n\u001b[0m\u001b[1;32m    668\u001b[0m         ]\n\u001b[1;32m    669\u001b[0m \u001b[0;34m\u001b[0m\u001b[0m\n",
      "\u001b[0;32m/usr/local/anaconda/lib/python3.6/site-packages/modin/engines/base/block_partitions.py\u001b[0m in \u001b[0;36m<listcomp>\u001b[0;34m(.0)\u001b[0m\n\u001b[1;32m    665\u001b[0m         \u001b[0;31m# travel to each partition once.\u001b[0m\u001b[0;34m\u001b[0m\u001b[0;34m\u001b[0m\u001b[0m\n\u001b[1;32m    666\u001b[0m         all_partitions_and_idx = [\n\u001b[0;32m--> 667\u001b[0;31m             \u001b[0mself\u001b[0m\u001b[0;34m.\u001b[0m\u001b[0m_get_blocks_containing_index\u001b[0m\u001b[0;34m(\u001b[0m\u001b[0maxis\u001b[0m\u001b[0;34m,\u001b[0m \u001b[0mi\u001b[0m\u001b[0;34m)\u001b[0m \u001b[0;32mfor\u001b[0m \u001b[0mi\u001b[0m \u001b[0;32min\u001b[0m \u001b[0mindices\u001b[0m\u001b[0;34m\u001b[0m\u001b[0m\n\u001b[0m\u001b[1;32m    668\u001b[0m         ]\n\u001b[1;32m    669\u001b[0m \u001b[0;34m\u001b[0m\u001b[0m\n",
      "\u001b[0;32m/usr/local/anaconda/lib/python3.6/site-packages/modin/engines/base/block_partitions.py\u001b[0m in \u001b[0;36m_get_blocks_containing_index\u001b[0;34m(self, axis, index)\u001b[0m\n\u001b[1;32m    637\u001b[0m             \u001b[0mErrorMessage\u001b[0m\u001b[0;34m.\u001b[0m\u001b[0mcatch_bugs_and_request_email\u001b[0m\u001b[0;34m(\u001b[0m\u001b[0mindex\u001b[0m \u001b[0;34m>\u001b[0m \u001b[0msum\u001b[0m\u001b[0;34m(\u001b[0m\u001b[0mself\u001b[0m\u001b[0;34m.\u001b[0m\u001b[0mblock_lengths\u001b[0m\u001b[0;34m)\u001b[0m\u001b[0;34m)\u001b[0m\u001b[0;34m\u001b[0m\u001b[0m\n\u001b[1;32m    638\u001b[0m             \u001b[0mcumulative_row_lengths\u001b[0m \u001b[0;34m=\u001b[0m \u001b[0mnp\u001b[0m\u001b[0;34m.\u001b[0m\u001b[0marray\u001b[0m\u001b[0;34m(\u001b[0m\u001b[0mself\u001b[0m\u001b[0;34m.\u001b[0m\u001b[0mblock_lengths\u001b[0m\u001b[0;34m)\u001b[0m\u001b[0;34m.\u001b[0m\u001b[0mcumsum\u001b[0m\u001b[0;34m(\u001b[0m\u001b[0;34m)\u001b[0m\u001b[0;34m\u001b[0m\u001b[0m\n\u001b[0;32m--> 639\u001b[0;31m             \u001b[0mblock_idx\u001b[0m \u001b[0;34m=\u001b[0m \u001b[0mint\u001b[0m\u001b[0;34m(\u001b[0m\u001b[0mnp\u001b[0m\u001b[0;34m.\u001b[0m\u001b[0mdigitize\u001b[0m\u001b[0;34m(\u001b[0m\u001b[0mindex\u001b[0m\u001b[0;34m,\u001b[0m \u001b[0mcumulative_row_lengths\u001b[0m\u001b[0;34m)\u001b[0m\u001b[0;34m)\u001b[0m\u001b[0;34m\u001b[0m\u001b[0m\n\u001b[0m\u001b[1;32m    640\u001b[0m             \u001b[0;31m# See note above about internal index\u001b[0m\u001b[0;34m\u001b[0m\u001b[0;34m\u001b[0m\u001b[0m\n\u001b[1;32m    641\u001b[0m             internal_idx = (\n",
      "\u001b[0;31mValueError\u001b[0m: bins must have non-zero length"
     ]
    }
   ],
   "source": [
    "# areacode to object\n",
    "df[['AreaCode']] = df[['AreaCode']].astype(object)\n",
    "\n",
    "# reset the report dataframe\n",
    "report = dqr(df)"
   ]
  },
  {
   "cell_type": "markdown",
   "metadata": {},
   "source": [
    "### Create Dummy Variables Quickly"
   ]
  },
  {
   "cell_type": "code",
   "execution_count": 17,
   "metadata": {},
   "outputs": [],
   "source": [
    "def create_dummies(data, cols, drop1st):\n",
    "    i=1\n",
    "    for c in cols:\n",
    "        create_dummies_i = pd.get_dummies(data[c],prefix=c, drop_first=drop1st)  \n",
    "        data=pd.concat([data,create_dummies_i],axis=1)\n",
    "        i=i+1\n",
    "        data = data.drop([c], axis=1)\n",
    "    return data"
   ]
  },
  {
   "cell_type": "code",
   "execution_count": 18,
   "metadata": {},
   "outputs": [
    {
     "data": {
      "text/plain": [
       "['AreaCode',\n",
       " 'gender',\n",
       " 'undercontract',\n",
       " 'Manufacturer',\n",
       " 'Model',\n",
       " 'Version',\n",
       " 'OS',\n",
       " 'Patch',\n",
       " 'Mem',\n",
       " 'Storage',\n",
       " 'Touchscreen',\n",
       " 'Color',\n",
       " 'CompPromo60',\n",
       " 'churn']"
      ]
     },
     "execution_count": 18,
     "metadata": {},
     "output_type": "execute_result"
    }
   ],
   "source": [
    "# all categorical columns\n",
    "temp = report[report['Data Type'] == 'object']\n",
    "list1 = list(temp.index.values)\n",
    "list1"
   ]
  },
  {
   "cell_type": "code",
   "execution_count": 19,
   "metadata": {},
   "outputs": [
    {
     "data": {
      "text/html": [
       "<div>\n",
       "<style scoped>\n",
       "    .dataframe tbody tr th:only-of-type {\n",
       "        vertical-align: middle;\n",
       "    }\n",
       "\n",
       "    .dataframe tbody tr th {\n",
       "        vertical-align: top;\n",
       "    }\n",
       "\n",
       "    .dataframe thead th {\n",
       "        text-align: right;\n",
       "    }\n",
       "</style>\n",
       "<table border=\"1\" class=\"dataframe\">\n",
       "  <thead>\n",
       "    <tr style=\"text-align: right;\">\n",
       "      <th></th>\n",
       "      <th>age</th>\n",
       "      <th>kids</th>\n",
       "      <th>education</th>\n",
       "      <th>income</th>\n",
       "      <th>dataplan</th>\n",
       "      <th>basebill</th>\n",
       "      <th>bill</th>\n",
       "      <th>mins</th>\n",
       "      <th>calls</th>\n",
       "      <th>long</th>\n",
       "      <th>...</th>\n",
       "      <th>Mem_8GB</th>\n",
       "      <th>Storage_Y</th>\n",
       "      <th>Touchscreen_Y</th>\n",
       "      <th>Color_gold</th>\n",
       "      <th>Color_green</th>\n",
       "      <th>Color_red</th>\n",
       "      <th>Color_silver</th>\n",
       "      <th>Color_white</th>\n",
       "      <th>CompPromo60_Promo</th>\n",
       "      <th>churn_Y</th>\n",
       "    </tr>\n",
       "    <tr>\n",
       "      <th>custid</th>\n",
       "      <th></th>\n",
       "      <th></th>\n",
       "      <th></th>\n",
       "      <th></th>\n",
       "      <th></th>\n",
       "      <th></th>\n",
       "      <th></th>\n",
       "      <th></th>\n",
       "      <th></th>\n",
       "      <th></th>\n",
       "      <th></th>\n",
       "      <th></th>\n",
       "      <th></th>\n",
       "      <th></th>\n",
       "      <th></th>\n",
       "      <th></th>\n",
       "      <th></th>\n",
       "      <th></th>\n",
       "      <th></th>\n",
       "      <th></th>\n",
       "      <th></th>\n",
       "    </tr>\n",
       "  </thead>\n",
       "  <tbody>\n",
       "    <tr>\n",
       "      <th>844336</th>\n",
       "      <td>45</td>\n",
       "      <td>2</td>\n",
       "      <td>11</td>\n",
       "      <td>89.2</td>\n",
       "      <td>4096</td>\n",
       "      <td>61.81</td>\n",
       "      <td>71.44</td>\n",
       "      <td>550</td>\n",
       "      <td>55</td>\n",
       "      <td>35</td>\n",
       "      <td>...</td>\n",
       "      <td>0</td>\n",
       "      <td>1</td>\n",
       "      <td>1</td>\n",
       "      <td>0</td>\n",
       "      <td>0</td>\n",
       "      <td>0</td>\n",
       "      <td>1</td>\n",
       "      <td>0</td>\n",
       "      <td>0</td>\n",
       "      <td>0</td>\n",
       "    </tr>\n",
       "    <tr>\n",
       "      <th>146041</th>\n",
       "      <td>43</td>\n",
       "      <td>1</td>\n",
       "      <td>9</td>\n",
       "      <td>54.2</td>\n",
       "      <td>2048</td>\n",
       "      <td>110.27</td>\n",
       "      <td>124.23</td>\n",
       "      <td>545</td>\n",
       "      <td>66</td>\n",
       "      <td>35</td>\n",
       "      <td>...</td>\n",
       "      <td>0</td>\n",
       "      <td>0</td>\n",
       "      <td>1</td>\n",
       "      <td>0</td>\n",
       "      <td>0</td>\n",
       "      <td>0</td>\n",
       "      <td>0</td>\n",
       "      <td>0</td>\n",
       "      <td>0</td>\n",
       "      <td>0</td>\n",
       "    </tr>\n",
       "    <tr>\n",
       "      <th>847745</th>\n",
       "      <td>41</td>\n",
       "      <td>1</td>\n",
       "      <td>12</td>\n",
       "      <td>55.3</td>\n",
       "      <td>2048</td>\n",
       "      <td>104.22</td>\n",
       "      <td>112.42</td>\n",
       "      <td>378</td>\n",
       "      <td>91</td>\n",
       "      <td>19</td>\n",
       "      <td>...</td>\n",
       "      <td>1</td>\n",
       "      <td>1</td>\n",
       "      <td>1</td>\n",
       "      <td>0</td>\n",
       "      <td>0</td>\n",
       "      <td>0</td>\n",
       "      <td>0</td>\n",
       "      <td>0</td>\n",
       "      <td>1</td>\n",
       "      <td>0</td>\n",
       "    </tr>\n",
       "    <tr>\n",
       "      <th>285565</th>\n",
       "      <td>31</td>\n",
       "      <td>0</td>\n",
       "      <td>10</td>\n",
       "      <td>66.8</td>\n",
       "      <td>4096</td>\n",
       "      <td>95.69</td>\n",
       "      <td>105.12</td>\n",
       "      <td>552</td>\n",
       "      <td>71</td>\n",
       "      <td>38</td>\n",
       "      <td>...</td>\n",
       "      <td>0</td>\n",
       "      <td>1</td>\n",
       "      <td>1</td>\n",
       "      <td>0</td>\n",
       "      <td>0</td>\n",
       "      <td>0</td>\n",
       "      <td>0</td>\n",
       "      <td>0</td>\n",
       "      <td>0</td>\n",
       "      <td>0</td>\n",
       "    </tr>\n",
       "    <tr>\n",
       "      <th>754611</th>\n",
       "      <td>43</td>\n",
       "      <td>0</td>\n",
       "      <td>8</td>\n",
       "      <td>87.2</td>\n",
       "      <td>2048</td>\n",
       "      <td>95.40</td>\n",
       "      <td>109.48</td>\n",
       "      <td>577</td>\n",
       "      <td>56</td>\n",
       "      <td>31</td>\n",
       "      <td>...</td>\n",
       "      <td>0</td>\n",
       "      <td>1</td>\n",
       "      <td>1</td>\n",
       "      <td>0</td>\n",
       "      <td>0</td>\n",
       "      <td>0</td>\n",
       "      <td>0</td>\n",
       "      <td>1</td>\n",
       "      <td>0</td>\n",
       "      <td>0</td>\n",
       "    </tr>\n",
       "  </tbody>\n",
       "</table>\n",
       "<p>5 rows x 259 columns</p>\n",
       "</div>"
      ],
      "text/plain": [
       "        age  kids  education  income  dataplan  basebill    bill  mins  calls  \\\n",
       "custid                                                                          \n",
       "844336   45     2         11    89.2      4096     61.81   71.44   550     55   \n",
       "146041   43     1          9    54.2      2048    110.27  124.23   545     66   \n",
       "847745   41     1         12    55.3      2048    104.22  112.42   378     91   \n",
       "285565   31     0         10    66.8      4096     95.69  105.12   552     71   \n",
       "754611   43     0          8    87.2      2048     95.40  109.48   577     56   \n",
       "\n",
       "        long   ...     Mem_8GB  Storage_Y  Touchscreen_Y  Color_gold  \\\n",
       "custid         ...                                                     \n",
       "844336    35   ...           0          1              1           0   \n",
       "146041    35   ...           0          0              1           0   \n",
       "847745    19   ...           1          1              1           0   \n",
       "285565    38   ...           0          1              1           0   \n",
       "754611    31   ...           0          1              1           0   \n",
       "\n",
       "        Color_green  Color_red  Color_silver  Color_white  CompPromo60_Promo  \\\n",
       "custid                                                                         \n",
       "844336            0          0             1            0                  0   \n",
       "146041            0          0             0            0                  0   \n",
       "847745            0          0             0            0                  1   \n",
       "285565            0          0             0            0                  0   \n",
       "754611            0          0             0            1                  0   \n",
       "\n",
       "        churn_Y  \n",
       "custid           \n",
       "844336        0  \n",
       "146041        0  \n",
       "847745        0  \n",
       "285565        0  \n",
       "754611        0  \n",
       "\n",
       "[5 rows x 259 columns]"
      ]
     },
     "execution_count": 19,
     "metadata": {},
     "output_type": "execute_result"
    }
   ],
   "source": [
    "# calling the create_dummies function\n",
    "df = create_dummies(df, list1, True)\n",
    "df.head()"
   ]
  },
  {
   "cell_type": "markdown",
   "metadata": {},
   "source": [
    "### Cleanup Bad Data"
   ]
  },
  {
   "cell_type": "code",
   "execution_count": null,
   "metadata": {},
   "outputs": [],
   "source": [
    "a = len(df)\n",
    "\n",
    "df.dropna()\n",
    "df.drop(df[df.age < 18].index, inplace=True)\n",
    "df.drop(df[df.income < 0].index, inplace=True)\n",
    "df.drop(df[df.kids < 0].index, inplace=True)\n",
    "df.drop(df[df.basebill < 0].index, inplace=True)\n",
    "df.drop(df[df.bill < 0].index, inplace=True)\n",
    "df.drop(df[df.calls < 0].index, inplace=True)\n",
    "df.drop(df[df.mins < 0].index, inplace=True)\n",
    "df.drop(df[df.long < 0].index, inplace=True)\n",
    "df.drop(df[df.datause < 0].index, inplace=True)\n",
    "df.drop(df[df.servcalls < 0].index, inplace=True)\n",
    "df.drop(df[df.drops < 0].index, inplace=True)\n",
    "df.drop(df[df.consecmonths < 0].index, inplace=True)\n",
    "\n",
    "print(\"Rows discarded: \", a - len(df))"
   ]
  },
  {
   "cell_type": "markdown",
   "metadata": {},
   "source": [
    "### Get a Feel For Important Variables"
   ]
  },
  {
   "cell_type": "code",
   "execution_count": null,
   "metadata": {},
   "outputs": [],
   "source": [
    "cols = list(df.columns)\n",
    "cols.remove('churn_Y')\n",
    "y = df[\"churn_Y\"]\n",
    "X = df[cols]"
   ]
  },
  {
   "cell_type": "code",
   "execution_count": null,
   "metadata": {},
   "outputs": [],
   "source": [
    "from sklearn.ensemble import RandomForestClassifier\n",
    "\n",
    "start = time.time()\n",
    "\n",
    "clf = RandomForestClassifier(n_estimators = 100)\n",
    "clf.fit(X.values, y.values.ravel())\n",
    "\n",
    "importance = clf.feature_importances_\n",
    "importance = pd.DataFrame(importance, index=X.columns, columns=[\"VarImp\"])\n",
    "importance.sort_values(by='VarImp', ascending=False, inplace=True)\n",
    "\n",
    "plt.rcParams['figure.figsize'] = [60, 6]\n",
    "importance.plot.bar()\n",
    "plt.show()\n",
    "\n",
    "time.time()-start"
   ]
  },
  {
   "cell_type": "code",
   "execution_count": null,
   "metadata": {},
   "outputs": [],
   "source": [
    "# choose a cutoff\n",
    "cutoff = importance.loc['kids'].values[0]\n",
    "keep_cols = list(importance[importance['VarImp'] >= cutoff].index.values)\n",
    "keep_cols.append('churn_Y')"
   ]
  },
  {
   "cell_type": "code",
   "execution_count": null,
   "metadata": {},
   "outputs": [],
   "source": [
    "df2 = df[keep_cols]\n",
    "list(df2.columns)"
   ]
  },
  {
   "cell_type": "markdown",
   "metadata": {},
   "source": [
    "### Graphical Exploration"
   ]
  },
  {
   "cell_type": "markdown",
   "metadata": {},
   "source": [
    "#### top 4 scatterplot matrix\n",
    "#### drop and dropperc are highly correlated no need for both"
   ]
  },
  {
   "cell_type": "code",
   "execution_count": null,
   "metadata": {},
   "outputs": [],
   "source": [
    "sns.pairplot(vars=['drops', 'dropperc', 'consecmonths', 'KPI_DeviceSat'], data=df2, hue=\"churn_Y\", size=5)"
   ]
  },
  {
   "cell_type": "markdown",
   "metadata": {},
   "source": [
    "#### bill and basebill are highly correlated no need for both"
   ]
  },
  {
   "cell_type": "code",
   "execution_count": null,
   "metadata": {},
   "outputs": [],
   "source": [
    "sns.pairplot(vars=['bill', 'basebill'], data=df2, hue=\"churn_Y\", size=5)"
   ]
  },
  {
   "cell_type": "markdown",
   "metadata": {},
   "source": [
    "#### undercontract and consecutive months are the same\n",
    "#### drop undercontract as consec months has more information"
   ]
  },
  {
   "cell_type": "code",
   "execution_count": null,
   "metadata": {},
   "outputs": [],
   "source": [
    "sns.pairplot(vars=['undercontract_Y', 'consecmonths'], data=df2, hue=\"churn_Y\", size=5)"
   ]
  },
  {
   "cell_type": "code",
   "execution_count": null,
   "metadata": {},
   "outputs": [],
   "source": [
    "# drop fields\n",
    "df2 = df2.drop(['drops'],axis=1)\n",
    "df2 = df2.drop(['undercontract_Y'],axis=1)\n",
    "df2 = df2.drop(['basebill'],axis=1)"
   ]
  },
  {
   "cell_type": "markdown",
   "metadata": {},
   "source": [
    "### Rerun Variable Importance"
   ]
  },
  {
   "cell_type": "code",
   "execution_count": null,
   "metadata": {},
   "outputs": [],
   "source": [
    "cols = list(df2.columns)\n",
    "cols.remove('churn_Y')\n",
    "y = df2[\"churn_Y\"]\n",
    "X = df2[cols]"
   ]
  },
  {
   "cell_type": "code",
   "execution_count": null,
   "metadata": {},
   "outputs": [],
   "source": [
    "from sklearn.ensemble import RandomForestClassifier\n",
    "\n",
    "clf = RandomForestClassifier(n_estimators = 100)\n",
    "clf.fit(X.values, y.values.ravel())\n",
    "\n",
    "importance = clf.feature_importances_\n",
    "importance = pd.DataFrame(importance, index=X.columns, columns=[\"VarImp\"])\n",
    "importance.sort_values(by='VarImp', ascending=False, inplace=True)\n",
    "\n",
    "plt.rcParams['figure.figsize'] = [15, 4]\n",
    "importance.plot.bar()\n",
    "plt.show()"
   ]
  },
  {
   "cell_type": "markdown",
   "metadata": {},
   "source": [
    "### Write Data to Disk"
   ]
  },
  {
   "cell_type": "code",
   "execution_count": null,
   "metadata": {},
   "outputs": [],
   "source": [
    "df2.to_csv('/mnt/data/prepared.csv')"
   ]
  }
 ],
 "metadata": {
  "kernelspec": {
   "display_name": "Python 3",
   "language": "python",
   "name": "python3"
  },
  "language_info": {
   "codemirror_mode": {
    "name": "ipython",
    "version": 3
   },
   "file_extension": ".py",
   "mimetype": "text/x-python",
   "name": "python",
   "nbconvert_exporter": "python",
   "pygments_lexer": "ipython3",
   "version": "3.6.6"
  }
 },
 "nbformat": 4,
 "nbformat_minor": 2
}
