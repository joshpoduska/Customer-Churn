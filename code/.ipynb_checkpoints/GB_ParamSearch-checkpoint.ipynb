{
 "cells": [
  {
   "cell_type": "code",
   "execution_count": 2,
   "metadata": {
    "collapsed": true
   },
   "outputs": [],
   "source": [
    "# Setup\n",
    "import sklearn as sk\n",
    "import numpy as np\n",
    "import matplotlib.pyplot as plt\n",
    "import pandas as pd\n",
    "import sys"
   ]
  },
  {
   "cell_type": "code",
   "execution_count": 7,
   "metadata": {},
   "outputs": [],
   "source": [
    "\n",
    "# capture inputs\n",
    "loss_ = 'exponential' #sys.argv[1]\n",
    "n_estimators_ = 50 #int(sys.argv[2])\n",
    " \n",
    " \n",
    "# Import Data\n",
    "df = pd.read_csv('/mnt/data/prepared.csv', header=0, index_col=0)\n",
    "\n",
    "df_baseline = pd.read_csv('/mnt/data/churndata.csv', header=0, index_col=0)\n",
    "create_dummies = pd.get_dummies(df_baseline['churn'],prefix='churn', drop_first=True)  \n",
    "df_baseline=pd.concat([df_baseline,create_dummies],axis=1)\n",
    "df_baseline = df_baseline.drop(['churn'], axis=1)\n",
    " \n",
    "columns = list(df.columns)\n",
    "columns.remove('churn_Y')\n",
    "y = df[\"churn_Y\"].values\n",
    "X = df[columns].values\n",
    "\n",
    "baseline_cols = ['consecmonths', 'KPI_DeviceSat', 'KPI_NetworkQual']\n",
    "y_baseline = df_baseline['churn_Y'].values\n",
    "X_baseline = df_baseline[baseline_cols].values"
   ]
  },
  {
   "cell_type": "code",
   "execution_count": 8,
   "metadata": {
    "collapsed": true
   },
   "outputs": [],
   "source": [
    "import pickle\n",
    "\n",
    "# load baseline model\n",
    "baseline_model = pickle.load(open('/mnt/output/baseline.pkl', 'rb'))"
   ]
  },
  {
   "cell_type": "code",
   "execution_count": 9,
   "metadata": {},
   "outputs": [],
   "source": [
    "from sklearn.ensemble import GradientBoostingClassifier\n",
    "clf = GradientBoostingClassifier(loss = loss_, n_estimators = n_estimators_, learning_rate = 1)\n",
    "clf = clf.fit(X, y)\n",
    "clfprb = clf.predict_proba(X)"
   ]
  },
  {
   "cell_type": "code",
   "execution_count": 10,
   "metadata": {
    "collapsed": true
   },
   "outputs": [],
   "source": [
    "# Evaluate Model\n",
    "from sklearn import metrics\n",
    "from sklearn.model_selection import KFold\n",
    "\n",
    "kf = KFold(n_splits=5)\n",
    " \n",
    "tprs = []\n",
    "aucs = []\n",
    "accs = []\n",
    "mean_fpr = np.linspace(0, 1, 100)\n",
    " \n",
    "i = 0\n",
    "for train, test in kf.split(X):\n",
    "    probas_ = clf.fit(X[train], y[train]).predict_proba(X[test])\n",
    "    preds_ = clf.fit(X[train], y[train]).predict(X[test])\n",
    "    fpr, tpr, thresholds = metrics.roc_curve(y[test], probas_[:, 1])\n",
    "    tprs.append(np.interp(mean_fpr, fpr, tpr))\n",
    "    tprs[-1][0] = 0.0\n",
    "    roc_auc = metrics.auc(fpr, tpr)\n",
    "    aucs.append(roc_auc)\n",
    "    accuracy = metrics.accuracy_score(y[test], preds_)\n",
    "    accs.append(accuracy)\n",
    "    i += 1\n",
    "    \n",
    "mean_acc = np.mean(accs)\n",
    "std_acc = np.std(accs)\n",
    "mean_tpr = np.mean(tprs, axis = 0)\n",
    "mean_tpr[-1] = 1.0\n",
    "mean_auc = np.mean(aucs)\n",
    "std_auc = np.std(aucs)"
   ]
  },
  {
   "cell_type": "code",
   "execution_count": 33,
   "metadata": {},
   "outputs": [],
   "source": [
    "tprs_baseline = []\n",
    "aucs_baseline = []\n",
    "accs_baseline = []\n",
    "mean_fpr_baseline = np.linspace(0, 1, 100)\n",
    " \n",
    "probas_ = baseline_model.predict_proba(X_baseline)\n",
    "preds_ = baseline_model.predict(X_baseline)\n",
    "fpr_baseline, tpr_baseline, thresholds_baseline = metrics.roc_curve(y_baseline, probas_[:, 1])\n",
    "tprs_baseline.append(np.interp(mean_fpr_baseline, fpr_baseline, tpr_baseline))\n",
    "tprs[-1][0] = 0.0\n",
    "roc_auc_baseline = metrics.auc(fpr_baseline, tpr_baseline)\n",
    "aucs_baseline.append(roc_auc_baseline)\n",
    "accuracy_baseline = metrics.accuracy_score(y_baseline, preds_)\n",
    "accs_baseline.append(accuracy_baseline)\n",
    "acc_baseline = np.mean(accs_baseline)\n",
    "auc_baseline = np.mean(aucs_baseline)"
   ]
  },
  {
   "cell_type": "code",
   "execution_count": 35,
   "metadata": {},
   "outputs": [],
   "source": [
    "std_tpr = np.std(tprs, axis=0)\n",
    "tprs_upper = np.minimum(mean_tpr + 2*std_tpr, 1)\n",
    "tprs_lower = np.maximum(mean_tpr - 2*std_tpr, 0)\n",
    "plt.fill_between(mean_fpr, tprs_lower, tprs_upper, color='grey', alpha=.2,\n",
    "                 label=r'$\\pm$ 2 std. dev.')\n",
    " \n",
    "plt.plot([0, 1], [0, 1], linestyle='--', lw=2, color='r', alpha=.8)\n",
    "plt.plot(mean_fpr, mean_tpr, color='b', lw=2, alpha=.8, label='New:  Avg AUC = %0.3f Avg Acc = %0.3f' % (mean_auc, mean_acc))\n",
    "plt.plot(fpr_baseline,tpr_baseline,color='red', label=        'Baseline: AUC = %0.3f     Acc = %0.3f' % (auc_baseline, acc_baseline))\n",
    "#plt.text(0.6, 0.125, 'Mean AUC = %0.3f' % (mean_auc))\n",
    "#plt.text(0.6, 0.2, 'Mean Accuracy = %0.3f' % (mean_acc))\n",
    " \n",
    " \n",
    "plt.xlim([-0.05, 1.05])\n",
    "plt.ylim([-0.05, 1.05])\n",
    "plt.xlabel('False Positive Rate')\n",
    "plt.ylabel('True Positive Rate')\n",
    "plt.title(\"5-Fold CV ROC Curve and Metrics: Loss = \" + loss_ + \", N_Estimators = \" + str(n_estimators_))\n",
    "plt.legend(loc=\"lower right\")\n",
    " \n",
    "#write out resutls\n",
    "plt.savefig('/mnt/output/AUC_ACC_' + loss_ + '_' + str(n_estimators_) + '.png', format='png')\n",
    " \n",
    "import json\n",
    " \n",
    "with open('dominostats.json', 'w') as f:\n",
    "    f.write(json.dumps({\"Acc\": round(mean_acc, 3), \"AUC\": round(mean_auc, 3)}))"
   ]
  },
  {
   "cell_type": "code",
   "execution_count": null,
   "metadata": {
    "collapsed": true
   },
   "outputs": [],
   "source": []
  }
 ],
 "metadata": {
  "kernelspec": {
   "display_name": "Python 3",
   "language": "python",
   "name": "python3"
  },
  "language_info": {
   "codemirror_mode": {
    "name": "ipython",
    "version": 3
   },
   "file_extension": ".py",
   "mimetype": "text/x-python",
   "name": "python",
   "nbconvert_exporter": "python",
   "pygments_lexer": "ipython3",
   "version": "3.6.2"
  }
 },
 "nbformat": 4,
 "nbformat_minor": 2
}
